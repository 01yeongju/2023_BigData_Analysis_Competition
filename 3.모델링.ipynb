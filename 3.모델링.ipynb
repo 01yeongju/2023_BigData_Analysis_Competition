{
 "cells": [
  {
   "cell_type": "markdown",
   "metadata": {
    "id": "qsIsGzftJuH9"
   },
   "source": [
    "# 장애인콜택시 대기시간 예측\n",
    "## 단계3. 모델링"
   ]
  },
  {
   "cell_type": "markdown",
   "metadata": {
    "id": "Dh02CX03JuES"
   },
   "source": [
    "## 0.미션\n",
    "\n",
    "* 1.시계열 데이터에 맞는 전처리\n",
    "    * 데이터가 2015 ~ 2022년까지 데이터 입니다.\n",
    "    * 이 중 2022년 10월 ~ 2022년 12월까지(3개월)의 데이터는 성능 검증용으로 사용합니다.\n",
    "    * 나머지 데이터를 이용하여 학습 및 튜닝을 수행합니다.\n",
    "    * 이를 위한 데이터 전처리를 수행하시오.\n",
    "* 2.모델 최적화\n",
    "    * 머신러닝 \n",
    "        * 알고리즘 중 3가지 이상을 선정하여 모델링을 수행합니다.\n",
    "        * 각각 알고리즘에 맞는 튜닝 방법으로 최적의 모델을 만듭니다.\n",
    "    * 딥러닝\n",
    "        * 모델 구조를 2가지 이상을 생성하고 모델링을 수행합니다.\n",
    "        * epochs, learning_rate 등을 조절하며 성능을 튜닝합니다.\n",
    "    * 성능 평가\n",
    "        * 시계열 그래프로 모델의 실제값과 예측값을 시각화하여 비교합니다.\n",
    "        * 성능 지표 (MAE, MAPE) 를 사용해 가장 성능이 높은 모델을 선정합니다.\n",
    "        * 성능 가이드\n",
    "            * MAE : 4 ~ 6\n",
    "            * MAPE : 0.09~0.14"
   ]
  },
  {
   "cell_type": "markdown",
   "metadata": {
    "id": "dWToio0hXNVS"
   },
   "source": [
    "## 1.환경설정"
   ]
  },
  {
   "cell_type": "markdown",
   "metadata": {
    "id": "bo9nL08wIinn"
   },
   "source": [
    "* 세부 요구사항\n",
    "    - 경로 설정 : 다음의 두가지 방법 중 하나를 선택하여 폴더를 준비하고 데이터를 로딩하시오.\n",
    "        * 1) 로컬 수행(Ananconda)\n",
    "            * 제공된 압축파일을 다운받아 압축을 풀고\n",
    "            * anaconda의 root directory(보통 C:/Users/< ID > 에 project 폴더를 만들고, 복사해 넣습니다.\n",
    "        * 2) 구글콜랩\n",
    "            * 구글 드라이브 바로 밑에 project 폴더를 만들고, \n",
    "            * 데이터 파일을 복사해 넣습니다.\n",
    "    - 라이브러리 설치 및 로딩\n",
    "        * requirements.txt 파일로 부터 라이브러리 설치\n",
    "    - 기본적으로 필요한 라이브러리를 import 하도록 코드가 작성되어 있습니다. \n",
    "        * 필요하다고 판단되는 라이브러리를 추가하세요."
   ]
  },
  {
   "cell_type": "markdown",
   "metadata": {
    "id": "Hw88CnLdImJE"
   },
   "source": [
    "### (1) 경로 설정"
   ]
  },
  {
   "cell_type": "markdown",
   "metadata": {
    "id": "HYi9O2rNdBU_"
   },
   "source": [
    "#### 1) 로컬 수행(Anaconda)\n",
    "* project 폴더에 필요한 파일들을 넣고, 본 파일을 열었다면, 별도 경로 지정이 필요하지 않습니다."
   ]
  },
  {
   "cell_type": "code",
   "execution_count": 4,
   "metadata": {
    "id": "876cuCbEd4j_"
   },
   "outputs": [],
   "source": [
    "path = ''"
   ]
  },
  {
   "cell_type": "markdown",
   "metadata": {
    "id": "S0yzHcH6fdzJ"
   },
   "source": [
    "#### 2) 구글 콜랩 수행"
   ]
  },
  {
   "cell_type": "markdown",
   "metadata": {
    "id": "Uc_kIeeJeDgi"
   },
   "source": [
    "* 구글 드라이브 연결"
   ]
  },
  {
   "cell_type": "code",
   "execution_count": 5,
   "metadata": {
    "id": "dd0SPbYdfhS9"
   },
   "outputs": [
    {
     "ename": "ModuleNotFoundError",
     "evalue": "No module named 'google.colab'",
     "output_type": "error",
     "traceback": [
      "\u001b[1;31m---------------------------------------------------------------------------\u001b[0m",
      "\u001b[1;31mModuleNotFoundError\u001b[0m                       Traceback (most recent call last)",
      "Cell \u001b[1;32mIn[5], line 1\u001b[0m\n\u001b[1;32m----> 1\u001b[0m \u001b[38;5;28;01mfrom\u001b[39;00m \u001b[38;5;21;01mgoogle\u001b[39;00m\u001b[38;5;21;01m.\u001b[39;00m\u001b[38;5;21;01mcolab\u001b[39;00m \u001b[38;5;28;01mimport\u001b[39;00m drive\n\u001b[0;32m      2\u001b[0m drive\u001b[38;5;241m.\u001b[39mmount(\u001b[38;5;124m'\u001b[39m\u001b[38;5;124m/content/drive\u001b[39m\u001b[38;5;124m'\u001b[39m)\n",
      "\u001b[1;31mModuleNotFoundError\u001b[0m: No module named 'google.colab'"
     ]
    }
   ],
   "source": [
    "from google.colab import drive\n",
    "drive.mount('/content/drive')"
   ]
  },
  {
   "cell_type": "code",
   "execution_count": null,
   "metadata": {
    "id": "y5OIDazoeIN4"
   },
   "outputs": [],
   "source": [
    "path = '/content/drive/MyDrive/project/'"
   ]
  },
  {
   "cell_type": "markdown",
   "metadata": {
    "id": "KnzVh2LmkLDU"
   },
   "source": [
    "### (2) 라이브러리 설치 및 불러오기"
   ]
  },
  {
   "cell_type": "markdown",
   "metadata": {
    "id": "pU-RB96NJBi6"
   },
   "source": [
    "#### 1) 설치"
   ]
  },
  {
   "cell_type": "markdown",
   "metadata": {
    "id": "7v_Avd8QJEUz"
   },
   "source": [
    "* requirements.txt 파일을 아래 위치에 두고 다음 코드를 실행하시오.\n",
    "    * 로컬 : 다음 코드셀 실행\n",
    "    * 구글콜랩 : requirements.txt 파일을 왼쪽 [파일]탭에 복사해 넣고 다음 코드셀 실행"
   ]
  },
  {
   "cell_type": "code",
   "execution_count": 7,
   "metadata": {
    "id": "Xa1PcdmMJGBi"
   },
   "outputs": [
    {
     "name": "stdout",
     "output_type": "stream",
     "text": [
      "Requirement already satisfied: pandas==1.5.3 in c:\\users\\user\\anaconda3\\lib\\site-packages (from -r requirements.txt (line 1)) (1.5.3)\n",
      "Collecting numpy==1.22.4 (from -r requirements.txt (line 2))\n",
      "  Using cached numpy-1.22.4.zip (11.5 MB)\n",
      "  Installing build dependencies: started\n",
      "  Installing build dependencies: finished with status 'done'\n",
      "  Getting requirements to build wheel: started\n",
      "  Getting requirements to build wheel: finished with status 'done'\n",
      "  Preparing metadata (pyproject.toml): started\n",
      "  Preparing metadata (pyproject.toml): finished with status 'done'\n",
      "Requirement already satisfied: matplotlib==3.7.1 in c:\\users\\user\\anaconda3\\lib\\site-packages (from -r requirements.txt (line 3)) (3.7.1)\n",
      "Requirement already satisfied: seaborn==0.12.2 in c:\\users\\user\\anaconda3\\lib\\site-packages (from -r requirements.txt (line 4)) (0.12.2)\n",
      "Collecting xgboost==1.7.5 (from -r requirements.txt (line 5))\n",
      "  Using cached xgboost-1.7.5-py3-none-win_amd64.whl (70.9 MB)\n",
      "Requirement already satisfied: python-dateutil>=2.8.1 in c:\\users\\user\\anaconda3\\lib\\site-packages (from pandas==1.5.3->-r requirements.txt (line 1)) (2.8.2)\n",
      "Requirement already satisfied: pytz>=2020.1 in c:\\users\\user\\anaconda3\\lib\\site-packages (from pandas==1.5.3->-r requirements.txt (line 1)) (2022.7)\n",
      "INFO: pip is looking at multiple versions of pandas to determine which version is compatible with other requirements. This could take a while.\n",
      "\n",
      "The conflict is caused by:\n",
      "    The user requested numpy==1.22.4\n",
      "    pandas 1.5.3 depends on numpy>=1.21.0; python_version >= \"3.10\"\n",
      "    pandas 1.5.3 depends on numpy>=1.23.2; python_version >= \"3.11\"\n",
      "\n",
      "To fix this you could try to:\n",
      "1. loosen the range of package versions you've specified\n",
      "2. remove package versions to allow pip attempt to solve the dependency conflict\n",
      "\n"
     ]
    },
    {
     "name": "stderr",
     "output_type": "stream",
     "text": [
      "ERROR: Cannot install numpy==1.22.4 and pandas==1.5.3 because these package versions have conflicting dependencies.\n",
      "ERROR: ResolutionImpossible: for help visit https://pip.pypa.io/en/latest/topics/dependency-resolution/#dealing-with-dependency-conflicts\n"
     ]
    }
   ],
   "source": [
    "!pip install -r requirements.txt"
   ]
  },
  {
   "cell_type": "markdown",
   "metadata": {
    "id": "kq88g7zGJIJf"
   },
   "source": [
    "#### 2) 라이브러리 로딩"
   ]
  },
  {
   "cell_type": "markdown",
   "metadata": {
    "id": "I_rCs78QJZmI"
   },
   "source": [
    "* **세부 요구사항**\n",
    "    - 기본적으로 필요한 라이브러리를 import 하도록 코드가 작성되어 있습니다.\n",
    "    - 필요하다고 판단되는 라이브러리를 추가하세요."
   ]
  },
  {
   "cell_type": "code",
   "execution_count": 8,
   "metadata": {
    "id": "3rsQerEaELwI"
   },
   "outputs": [],
   "source": [
    "import pandas as pd\n",
    "import numpy as np\n",
    "import matplotlib.pyplot as plt\n",
    "import seaborn as sns\n",
    "\n",
    "import joblib\n",
    "\n",
    "# 필요하다고 판단되는 라이브러리를 추가하세요.\n",
    "\n",
    "\n"
   ]
  },
  {
   "cell_type": "markdown",
   "metadata": {
    "id": "wsLDv9tZc_i1"
   },
   "source": [
    "### (3) 데이터 불러오기\n",
    "* 주어진 데이터셋\n",
    "    * [2.탐색적 데이터분석] 단계에서 저장한 파일 : data2.pkl"
   ]
  },
  {
   "cell_type": "code",
   "execution_count": 9,
   "metadata": {
    "id": "FT_JFnclfcQ4"
   },
   "outputs": [],
   "source": [
    "file1 = 'data2.pkl'\n"
   ]
  },
  {
   "cell_type": "code",
   "execution_count": 10,
   "metadata": {
    "id": "ZpMoNMpcQoQ5"
   },
   "outputs": [
    {
     "data": {
      "text/html": [
       "<div>\n",
       "<style scoped>\n",
       "    .dataframe tbody tr th:only-of-type {\n",
       "        vertical-align: middle;\n",
       "    }\n",
       "\n",
       "    .dataframe tbody tr th {\n",
       "        vertical-align: top;\n",
       "    }\n",
       "\n",
       "    .dataframe thead th {\n",
       "        text-align: right;\n",
       "    }\n",
       "</style>\n",
       "<table border=\"1\" class=\"dataframe\">\n",
       "  <thead>\n",
       "    <tr style=\"text-align: right;\">\n",
       "      <th></th>\n",
       "      <th>Date</th>\n",
       "      <th>car_cnt</th>\n",
       "      <th>request_cnt</th>\n",
       "      <th>ride_cnt</th>\n",
       "      <th>waiting_time</th>\n",
       "      <th>fare</th>\n",
       "      <th>distance</th>\n",
       "      <th>weekday</th>\n",
       "      <th>month</th>\n",
       "      <th>week</th>\n",
       "      <th>...</th>\n",
       "      <th>temp_max</th>\n",
       "      <th>temp_min</th>\n",
       "      <th>rain(mm)</th>\n",
       "      <th>humidity_max(%)</th>\n",
       "      <th>humidity_min(%)</th>\n",
       "      <th>sunshine(MJ/m2)</th>\n",
       "      <th>season</th>\n",
       "      <th>holiday</th>\n",
       "      <th>waiting_time(mean)</th>\n",
       "      <th>ride_rate</th>\n",
       "    </tr>\n",
       "  </thead>\n",
       "  <tbody>\n",
       "    <tr>\n",
       "      <th>0</th>\n",
       "      <td>2015-01-01</td>\n",
       "      <td>213</td>\n",
       "      <td>1023</td>\n",
       "      <td>924</td>\n",
       "      <td>23.2</td>\n",
       "      <td>2427</td>\n",
       "      <td>10764</td>\n",
       "      <td>3</td>\n",
       "      <td>1월</td>\n",
       "      <td>1</td>\n",
       "      <td>...</td>\n",
       "      <td>-2.0</td>\n",
       "      <td>-8.9</td>\n",
       "      <td>0.0</td>\n",
       "      <td>63.0</td>\n",
       "      <td>28.0</td>\n",
       "      <td>9.07</td>\n",
       "      <td>겨울</td>\n",
       "      <td>1</td>\n",
       "      <td>NaN</td>\n",
       "      <td>0.903226</td>\n",
       "    </tr>\n",
       "    <tr>\n",
       "      <th>1</th>\n",
       "      <td>2015-01-02</td>\n",
       "      <td>420</td>\n",
       "      <td>3158</td>\n",
       "      <td>2839</td>\n",
       "      <td>17.2</td>\n",
       "      <td>2216</td>\n",
       "      <td>8611</td>\n",
       "      <td>4</td>\n",
       "      <td>1월</td>\n",
       "      <td>1</td>\n",
       "      <td>...</td>\n",
       "      <td>2.4</td>\n",
       "      <td>-9.2</td>\n",
       "      <td>0.0</td>\n",
       "      <td>73.0</td>\n",
       "      <td>37.0</td>\n",
       "      <td>8.66</td>\n",
       "      <td>겨울</td>\n",
       "      <td>0</td>\n",
       "      <td>NaN</td>\n",
       "      <td>0.898987</td>\n",
       "    </tr>\n",
       "    <tr>\n",
       "      <th>2</th>\n",
       "      <td>2015-01-03</td>\n",
       "      <td>209</td>\n",
       "      <td>1648</td>\n",
       "      <td>1514</td>\n",
       "      <td>26.2</td>\n",
       "      <td>2377</td>\n",
       "      <td>10198</td>\n",
       "      <td>5</td>\n",
       "      <td>1월</td>\n",
       "      <td>1</td>\n",
       "      <td>...</td>\n",
       "      <td>8.2</td>\n",
       "      <td>0.2</td>\n",
       "      <td>0.0</td>\n",
       "      <td>89.0</td>\n",
       "      <td>58.0</td>\n",
       "      <td>5.32</td>\n",
       "      <td>겨울</td>\n",
       "      <td>0</td>\n",
       "      <td>NaN</td>\n",
       "      <td>0.918689</td>\n",
       "    </tr>\n",
       "    <tr>\n",
       "      <th>3</th>\n",
       "      <td>2015-01-04</td>\n",
       "      <td>196</td>\n",
       "      <td>1646</td>\n",
       "      <td>1526</td>\n",
       "      <td>24.5</td>\n",
       "      <td>2431</td>\n",
       "      <td>10955</td>\n",
       "      <td>6</td>\n",
       "      <td>1월</td>\n",
       "      <td>1</td>\n",
       "      <td>...</td>\n",
       "      <td>7.9</td>\n",
       "      <td>-0.9</td>\n",
       "      <td>0.0</td>\n",
       "      <td>95.0</td>\n",
       "      <td>52.0</td>\n",
       "      <td>6.48</td>\n",
       "      <td>겨울</td>\n",
       "      <td>0</td>\n",
       "      <td>NaN</td>\n",
       "      <td>0.927096</td>\n",
       "    </tr>\n",
       "    <tr>\n",
       "      <th>4</th>\n",
       "      <td>2015-01-05</td>\n",
       "      <td>421</td>\n",
       "      <td>4250</td>\n",
       "      <td>3730</td>\n",
       "      <td>26.2</td>\n",
       "      <td>2214</td>\n",
       "      <td>8663</td>\n",
       "      <td>0</td>\n",
       "      <td>1월</td>\n",
       "      <td>2</td>\n",
       "      <td>...</td>\n",
       "      <td>4.1</td>\n",
       "      <td>-7.4</td>\n",
       "      <td>3.4</td>\n",
       "      <td>98.0</td>\n",
       "      <td>29.0</td>\n",
       "      <td>10.47</td>\n",
       "      <td>겨울</td>\n",
       "      <td>0</td>\n",
       "      <td>NaN</td>\n",
       "      <td>0.877647</td>\n",
       "    </tr>\n",
       "    <tr>\n",
       "      <th>...</th>\n",
       "      <td>...</td>\n",
       "      <td>...</td>\n",
       "      <td>...</td>\n",
       "      <td>...</td>\n",
       "      <td>...</td>\n",
       "      <td>...</td>\n",
       "      <td>...</td>\n",
       "      <td>...</td>\n",
       "      <td>...</td>\n",
       "      <td>...</td>\n",
       "      <td>...</td>\n",
       "      <td>...</td>\n",
       "      <td>...</td>\n",
       "      <td>...</td>\n",
       "      <td>...</td>\n",
       "      <td>...</td>\n",
       "      <td>...</td>\n",
       "      <td>...</td>\n",
       "      <td>...</td>\n",
       "      <td>...</td>\n",
       "      <td>...</td>\n",
       "    </tr>\n",
       "    <tr>\n",
       "      <th>2917</th>\n",
       "      <td>2022-12-26</td>\n",
       "      <td>603</td>\n",
       "      <td>5555</td>\n",
       "      <td>4605</td>\n",
       "      <td>39.2</td>\n",
       "      <td>2163</td>\n",
       "      <td>7889</td>\n",
       "      <td>0</td>\n",
       "      <td>12월</td>\n",
       "      <td>52</td>\n",
       "      <td>...</td>\n",
       "      <td>3.0</td>\n",
       "      <td>-7.3</td>\n",
       "      <td>0.0</td>\n",
       "      <td>86.0</td>\n",
       "      <td>51.0</td>\n",
       "      <td>10.25</td>\n",
       "      <td>겨울</td>\n",
       "      <td>0</td>\n",
       "      <td>43.485714</td>\n",
       "      <td>0.828983</td>\n",
       "    </tr>\n",
       "    <tr>\n",
       "      <th>2918</th>\n",
       "      <td>2022-12-27</td>\n",
       "      <td>669</td>\n",
       "      <td>5635</td>\n",
       "      <td>4654</td>\n",
       "      <td>44.4</td>\n",
       "      <td>2198</td>\n",
       "      <td>8178</td>\n",
       "      <td>1</td>\n",
       "      <td>12월</td>\n",
       "      <td>52</td>\n",
       "      <td>...</td>\n",
       "      <td>-0.3</td>\n",
       "      <td>-5.4</td>\n",
       "      <td>0.1</td>\n",
       "      <td>92.0</td>\n",
       "      <td>40.0</td>\n",
       "      <td>10.86</td>\n",
       "      <td>겨울</td>\n",
       "      <td>0</td>\n",
       "      <td>42.771429</td>\n",
       "      <td>0.825909</td>\n",
       "    </tr>\n",
       "    <tr>\n",
       "      <th>2919</th>\n",
       "      <td>2022-12-28</td>\n",
       "      <td>607</td>\n",
       "      <td>5654</td>\n",
       "      <td>4648</td>\n",
       "      <td>44.8</td>\n",
       "      <td>2161</td>\n",
       "      <td>7882</td>\n",
       "      <td>2</td>\n",
       "      <td>12월</td>\n",
       "      <td>52</td>\n",
       "      <td>...</td>\n",
       "      <td>1.7</td>\n",
       "      <td>-7.8</td>\n",
       "      <td>0.0</td>\n",
       "      <td>71.0</td>\n",
       "      <td>34.0</td>\n",
       "      <td>10.88</td>\n",
       "      <td>겨울</td>\n",
       "      <td>0</td>\n",
       "      <td>43.514286</td>\n",
       "      <td>0.822073</td>\n",
       "    </tr>\n",
       "    <tr>\n",
       "      <th>2920</th>\n",
       "      <td>2022-12-29</td>\n",
       "      <td>581</td>\n",
       "      <td>5250</td>\n",
       "      <td>4247</td>\n",
       "      <td>52.5</td>\n",
       "      <td>2229</td>\n",
       "      <td>8433</td>\n",
       "      <td>3</td>\n",
       "      <td>12월</td>\n",
       "      <td>52</td>\n",
       "      <td>...</td>\n",
       "      <td>2.1</td>\n",
       "      <td>-4.0</td>\n",
       "      <td>0.0</td>\n",
       "      <td>87.0</td>\n",
       "      <td>38.0</td>\n",
       "      <td>10.84</td>\n",
       "      <td>겨울</td>\n",
       "      <td>0</td>\n",
       "      <td>42.957143</td>\n",
       "      <td>0.808952</td>\n",
       "    </tr>\n",
       "    <tr>\n",
       "      <th>2921</th>\n",
       "      <td>2022-12-30</td>\n",
       "      <td>600</td>\n",
       "      <td>5293</td>\n",
       "      <td>4200</td>\n",
       "      <td>38.3</td>\n",
       "      <td>2183</td>\n",
       "      <td>8155</td>\n",
       "      <td>4</td>\n",
       "      <td>12월</td>\n",
       "      <td>52</td>\n",
       "      <td>...</td>\n",
       "      <td>-4.4</td>\n",
       "      <td>-4.4</td>\n",
       "      <td>0.0</td>\n",
       "      <td>66.0</td>\n",
       "      <td>66.0</td>\n",
       "      <td>0.00</td>\n",
       "      <td>겨울</td>\n",
       "      <td>0</td>\n",
       "      <td>41.042857</td>\n",
       "      <td>0.793501</td>\n",
       "    </tr>\n",
       "  </tbody>\n",
       "</table>\n",
       "<p>2922 rows × 21 columns</p>\n",
       "</div>"
      ],
      "text/plain": [
       "           Date  car_cnt  request_cnt  ride_cnt  waiting_time  fare  distance  \\\n",
       "0    2015-01-01      213         1023       924          23.2  2427     10764   \n",
       "1    2015-01-02      420         3158      2839          17.2  2216      8611   \n",
       "2    2015-01-03      209         1648      1514          26.2  2377     10198   \n",
       "3    2015-01-04      196         1646      1526          24.5  2431     10955   \n",
       "4    2015-01-05      421         4250      3730          26.2  2214      8663   \n",
       "...         ...      ...          ...       ...           ...   ...       ...   \n",
       "2917 2022-12-26      603         5555      4605          39.2  2163      7889   \n",
       "2918 2022-12-27      669         5635      4654          44.4  2198      8178   \n",
       "2919 2022-12-28      607         5654      4648          44.8  2161      7882   \n",
       "2920 2022-12-29      581         5250      4247          52.5  2229      8433   \n",
       "2921 2022-12-30      600         5293      4200          38.3  2183      8155   \n",
       "\n",
       "      weekday month  week  ...  temp_max  temp_min  rain(mm)  humidity_max(%)  \\\n",
       "0           3    1월     1  ...      -2.0      -8.9       0.0             63.0   \n",
       "1           4    1월     1  ...       2.4      -9.2       0.0             73.0   \n",
       "2           5    1월     1  ...       8.2       0.2       0.0             89.0   \n",
       "3           6    1월     1  ...       7.9      -0.9       0.0             95.0   \n",
       "4           0    1월     2  ...       4.1      -7.4       3.4             98.0   \n",
       "...       ...   ...   ...  ...       ...       ...       ...              ...   \n",
       "2917        0   12월    52  ...       3.0      -7.3       0.0             86.0   \n",
       "2918        1   12월    52  ...      -0.3      -5.4       0.1             92.0   \n",
       "2919        2   12월    52  ...       1.7      -7.8       0.0             71.0   \n",
       "2920        3   12월    52  ...       2.1      -4.0       0.0             87.0   \n",
       "2921        4   12월    52  ...      -4.4      -4.4       0.0             66.0   \n",
       "\n",
       "      humidity_min(%)  sunshine(MJ/m2)  season holiday waiting_time(mean)  \\\n",
       "0                28.0             9.07      겨울       1                NaN   \n",
       "1                37.0             8.66      겨울       0                NaN   \n",
       "2                58.0             5.32      겨울       0                NaN   \n",
       "3                52.0             6.48      겨울       0                NaN   \n",
       "4                29.0            10.47      겨울       0                NaN   \n",
       "...               ...              ...     ...     ...                ...   \n",
       "2917             51.0            10.25      겨울       0          43.485714   \n",
       "2918             40.0            10.86      겨울       0          42.771429   \n",
       "2919             34.0            10.88      겨울       0          43.514286   \n",
       "2920             38.0            10.84      겨울       0          42.957143   \n",
       "2921             66.0             0.00      겨울       0          41.042857   \n",
       "\n",
       "      ride_rate  \n",
       "0      0.903226  \n",
       "1      0.898987  \n",
       "2      0.918689  \n",
       "3      0.927096  \n",
       "4      0.877647  \n",
       "...         ...  \n",
       "2917   0.828983  \n",
       "2918   0.825909  \n",
       "2919   0.822073  \n",
       "2920   0.808952  \n",
       "2921   0.793501  \n",
       "\n",
       "[2922 rows x 21 columns]"
      ]
     },
     "execution_count": 10,
     "metadata": {},
     "output_type": "execute_result"
    }
   ],
   "source": [
    "# 파일을 불러올 경로와 파일 이름 설정\n",
    "file_path = 'data1.pkl'\n",
    "\n",
    "# 데이터프레임 불러오기\n",
    "file1= joblib.load(file_path)\n",
    "\n",
    "# 불러온 데이터프레임 확인\n",
    "file1\n"
   ]
  },
  {
   "cell_type": "markdown",
   "metadata": {
    "id": "OQsk3V6hXSjE"
   },
   "source": [
    "## 2.데이터 준비\n",
    "* **세부요구사항**\n",
    "    * NaN에 대한 조치를 수행하시오.\n",
    "        * rolling 혹은 shift로 발생된 초기 행의 NaN은 삭제해도 무방합니다.\n",
    "    * 가변수화 : 범주형에 대해서 가변수화를 수행합니다.\n",
    "    * 데이터분할\n",
    "        * 시계열 데이터 특성에 맞게 분할합니다.\n",
    "        * 마지막 91일(3개월) 데이터를 검증셋으로 사용합니다."
   ]
  },
  {
   "cell_type": "markdown",
   "metadata": {
    "id": "mp_5volyuaA1"
   },
   "source": [
    "### (1) NA 조치"
   ]
  },
  {
   "cell_type": "code",
   "execution_count": 11,
   "metadata": {
    "id": "k3FHGbBVtDkb"
   },
   "outputs": [
    {
     "data": {
      "text/plain": [
       "Date                  0\n",
       "car_cnt               0\n",
       "request_cnt           0\n",
       "ride_cnt              0\n",
       "waiting_time          0\n",
       "fare                  0\n",
       "distance              0\n",
       "weekday               0\n",
       "month                 0\n",
       "week                  0\n",
       "year                  0\n",
       "temp_max              0\n",
       "temp_min              0\n",
       "rain(mm)              0\n",
       "humidity_max(%)       0\n",
       "humidity_min(%)       0\n",
       "sunshine(MJ/m2)       0\n",
       "season                0\n",
       "holiday               0\n",
       "waiting_time(mean)    6\n",
       "ride_rate             0\n",
       "dtype: int64"
      ]
     },
     "execution_count": 11,
     "metadata": {},
     "output_type": "execute_result"
    }
   ],
   "source": [
    "file1.isna().sum()"
   ]
  },
  {
   "cell_type": "code",
   "execution_count": 12,
   "metadata": {
    "id": "9QUDdGKWtDhi"
   },
   "outputs": [
    {
     "data": {
      "text/plain": [
       "Date                  0\n",
       "car_cnt               0\n",
       "request_cnt           0\n",
       "ride_cnt              0\n",
       "waiting_time          0\n",
       "fare                  0\n",
       "distance              0\n",
       "weekday               0\n",
       "month                 0\n",
       "week                  0\n",
       "year                  0\n",
       "temp_max              0\n",
       "temp_min              0\n",
       "rain(mm)              0\n",
       "humidity_max(%)       0\n",
       "humidity_min(%)       0\n",
       "sunshine(MJ/m2)       0\n",
       "season                0\n",
       "holiday               0\n",
       "waiting_time(mean)    0\n",
       "ride_rate             0\n",
       "dtype: int64"
      ]
     },
     "execution_count": 12,
     "metadata": {},
     "output_type": "execute_result"
    }
   ],
   "source": [
    "file1.dropna(axis=0, inplace=True)\n",
    "\n",
    "# 확인\n",
    "file1.isna().sum()"
   ]
  },
  {
   "cell_type": "code",
   "execution_count": 13,
   "metadata": {
    "id": "212BzfnGtDea"
   },
   "outputs": [],
   "source": [
    "file1.reset_index(drop=True, inplace=True)"
   ]
  },
  {
   "cell_type": "code",
   "execution_count": 14,
   "metadata": {
    "tags": []
   },
   "outputs": [
    {
     "name": "stdout",
     "output_type": "stream",
     "text": [
      "<class 'pandas.core.frame.DataFrame'>\n",
      "RangeIndex: 2916 entries, 0 to 2915\n",
      "Data columns (total 21 columns):\n",
      " #   Column              Non-Null Count  Dtype         \n",
      "---  ------              --------------  -----         \n",
      " 0   Date                2916 non-null   datetime64[ns]\n",
      " 1   car_cnt             2916 non-null   int64         \n",
      " 2   request_cnt         2916 non-null   int64         \n",
      " 3   ride_cnt            2916 non-null   int64         \n",
      " 4   waiting_time        2916 non-null   float64       \n",
      " 5   fare                2916 non-null   int64         \n",
      " 6   distance            2916 non-null   int64         \n",
      " 7   weekday             2916 non-null   int64         \n",
      " 8   month               2916 non-null   category      \n",
      " 9   week                2916 non-null   int64         \n",
      " 10  year                2916 non-null   int64         \n",
      " 11  temp_max            2916 non-null   float64       \n",
      " 12  temp_min            2916 non-null   float64       \n",
      " 13  rain(mm)            2916 non-null   float64       \n",
      " 14  humidity_max(%)     2916 non-null   float64       \n",
      " 15  humidity_min(%)     2916 non-null   float64       \n",
      " 16  sunshine(MJ/m2)     2916 non-null   float64       \n",
      " 17  season              2916 non-null   object        \n",
      " 18  holiday             2916 non-null   object        \n",
      " 19  waiting_time(mean)  2916 non-null   float64       \n",
      " 20  ride_rate           2916 non-null   float64       \n",
      "dtypes: category(1), datetime64[ns](1), float64(9), int64(8), object(2)\n",
      "memory usage: 459.0+ KB\n"
     ]
    }
   ],
   "source": [
    "file1.info()"
   ]
  },
  {
   "cell_type": "markdown",
   "metadata": {
    "id": "nOF9fSLQugGf"
   },
   "source": [
    "### (2) 가변수화"
   ]
  },
  {
   "cell_type": "code",
   "execution_count": 15,
   "metadata": {
    "id": "CZgBC2QSoKc8"
   },
   "outputs": [
    {
     "name": "stderr",
     "output_type": "stream",
     "text": [
      "C:\\Users\\user\\AppData\\Local\\Temp\\ipykernel_16480\\2779874099.py:5: FutureWarning: In a future version, the Index constructor will not infer numeric dtypes when passed object-dtype sequences (matching Series behavior)\n",
      "  file1 = pd.get_dummies(file1, columns=dumm_cols, drop_first=True)\n"
     ]
    },
    {
     "data": {
      "text/html": [
       "<div>\n",
       "<style scoped>\n",
       "    .dataframe tbody tr th:only-of-type {\n",
       "        vertical-align: middle;\n",
       "    }\n",
       "\n",
       "    .dataframe tbody tr th {\n",
       "        vertical-align: top;\n",
       "    }\n",
       "\n",
       "    .dataframe thead th {\n",
       "        text-align: right;\n",
       "    }\n",
       "</style>\n",
       "<table border=\"1\" class=\"dataframe\">\n",
       "  <thead>\n",
       "    <tr style=\"text-align: right;\">\n",
       "      <th></th>\n",
       "      <th>Date</th>\n",
       "      <th>car_cnt</th>\n",
       "      <th>request_cnt</th>\n",
       "      <th>ride_cnt</th>\n",
       "      <th>waiting_time</th>\n",
       "      <th>fare</th>\n",
       "      <th>distance</th>\n",
       "      <th>week</th>\n",
       "      <th>year</th>\n",
       "      <th>temp_max</th>\n",
       "      <th>...</th>\n",
       "      <th>month_10월</th>\n",
       "      <th>month_11월</th>\n",
       "      <th>month_12월</th>\n",
       "      <th>holiday_1</th>\n",
       "      <th>weekday_1</th>\n",
       "      <th>weekday_2</th>\n",
       "      <th>weekday_3</th>\n",
       "      <th>weekday_4</th>\n",
       "      <th>weekday_5</th>\n",
       "      <th>weekday_6</th>\n",
       "    </tr>\n",
       "  </thead>\n",
       "  <tbody>\n",
       "    <tr>\n",
       "      <th>0</th>\n",
       "      <td>2015-01-07</td>\n",
       "      <td>410</td>\n",
       "      <td>4085</td>\n",
       "      <td>3676</td>\n",
       "      <td>24.7</td>\n",
       "      <td>2230</td>\n",
       "      <td>8646</td>\n",
       "      <td>2</td>\n",
       "      <td>2015</td>\n",
       "      <td>-0.2</td>\n",
       "      <td>...</td>\n",
       "      <td>0</td>\n",
       "      <td>0</td>\n",
       "      <td>0</td>\n",
       "      <td>0</td>\n",
       "      <td>0</td>\n",
       "      <td>1</td>\n",
       "      <td>0</td>\n",
       "      <td>0</td>\n",
       "      <td>0</td>\n",
       "      <td>0</td>\n",
       "    </tr>\n",
       "    <tr>\n",
       "      <th>1</th>\n",
       "      <td>2015-01-08</td>\n",
       "      <td>419</td>\n",
       "      <td>4030</td>\n",
       "      <td>3728</td>\n",
       "      <td>21.2</td>\n",
       "      <td>2231</td>\n",
       "      <td>8683</td>\n",
       "      <td>2</td>\n",
       "      <td>2015</td>\n",
       "      <td>3.2</td>\n",
       "      <td>...</td>\n",
       "      <td>0</td>\n",
       "      <td>0</td>\n",
       "      <td>0</td>\n",
       "      <td>0</td>\n",
       "      <td>0</td>\n",
       "      <td>0</td>\n",
       "      <td>1</td>\n",
       "      <td>0</td>\n",
       "      <td>0</td>\n",
       "      <td>0</td>\n",
       "    </tr>\n",
       "    <tr>\n",
       "      <th>2</th>\n",
       "      <td>2015-01-09</td>\n",
       "      <td>424</td>\n",
       "      <td>4167</td>\n",
       "      <td>3813</td>\n",
       "      <td>21.8</td>\n",
       "      <td>2215</td>\n",
       "      <td>8506</td>\n",
       "      <td>2</td>\n",
       "      <td>2015</td>\n",
       "      <td>4.3</td>\n",
       "      <td>...</td>\n",
       "      <td>0</td>\n",
       "      <td>0</td>\n",
       "      <td>0</td>\n",
       "      <td>0</td>\n",
       "      <td>0</td>\n",
       "      <td>0</td>\n",
       "      <td>0</td>\n",
       "      <td>1</td>\n",
       "      <td>0</td>\n",
       "      <td>0</td>\n",
       "    </tr>\n",
       "    <tr>\n",
       "      <th>3</th>\n",
       "      <td>2015-01-10</td>\n",
       "      <td>215</td>\n",
       "      <td>1916</td>\n",
       "      <td>1645</td>\n",
       "      <td>41.2</td>\n",
       "      <td>2447</td>\n",
       "      <td>11123</td>\n",
       "      <td>2</td>\n",
       "      <td>2015</td>\n",
       "      <td>2.3</td>\n",
       "      <td>...</td>\n",
       "      <td>0</td>\n",
       "      <td>0</td>\n",
       "      <td>0</td>\n",
       "      <td>0</td>\n",
       "      <td>0</td>\n",
       "      <td>0</td>\n",
       "      <td>0</td>\n",
       "      <td>0</td>\n",
       "      <td>1</td>\n",
       "      <td>0</td>\n",
       "    </tr>\n",
       "    <tr>\n",
       "      <th>4</th>\n",
       "      <td>2015-01-11</td>\n",
       "      <td>187</td>\n",
       "      <td>1700</td>\n",
       "      <td>1572</td>\n",
       "      <td>28.8</td>\n",
       "      <td>2419</td>\n",
       "      <td>10806</td>\n",
       "      <td>2</td>\n",
       "      <td>2015</td>\n",
       "      <td>3.4</td>\n",
       "      <td>...</td>\n",
       "      <td>0</td>\n",
       "      <td>0</td>\n",
       "      <td>0</td>\n",
       "      <td>0</td>\n",
       "      <td>0</td>\n",
       "      <td>0</td>\n",
       "      <td>0</td>\n",
       "      <td>0</td>\n",
       "      <td>0</td>\n",
       "      <td>1</td>\n",
       "    </tr>\n",
       "  </tbody>\n",
       "</table>\n",
       "<p>5 rows × 38 columns</p>\n",
       "</div>"
      ],
      "text/plain": [
       "        Date  car_cnt  request_cnt  ride_cnt  waiting_time  fare  distance  \\\n",
       "0 2015-01-07      410         4085      3676          24.7  2230      8646   \n",
       "1 2015-01-08      419         4030      3728          21.2  2231      8683   \n",
       "2 2015-01-09      424         4167      3813          21.8  2215      8506   \n",
       "3 2015-01-10      215         1916      1645          41.2  2447     11123   \n",
       "4 2015-01-11      187         1700      1572          28.8  2419     10806   \n",
       "\n",
       "   week  year  temp_max  ...  month_10월  month_11월  month_12월  holiday_1  \\\n",
       "0     2  2015      -0.2  ...          0          0          0          0   \n",
       "1     2  2015       3.2  ...          0          0          0          0   \n",
       "2     2  2015       4.3  ...          0          0          0          0   \n",
       "3     2  2015       2.3  ...          0          0          0          0   \n",
       "4     2  2015       3.4  ...          0          0          0          0   \n",
       "\n",
       "   weekday_1  weekday_2  weekday_3  weekday_4  weekday_5  weekday_6  \n",
       "0          0          1          0          0          0          0  \n",
       "1          0          0          1          0          0          0  \n",
       "2          0          0          0          1          0          0  \n",
       "3          0          0          0          0          1          0  \n",
       "4          0          0          0          0          0          1  \n",
       "\n",
       "[5 rows x 38 columns]"
      ]
     },
     "execution_count": 15,
     "metadata": {},
     "output_type": "execute_result"
    }
   ],
   "source": [
    "# 가변수 대상 변수 식별\n",
    "dumm_cols = ['season', 'month', 'holiday','weekday']\n",
    "\n",
    "# 가변수화\n",
    "file1 = pd.get_dummies(file1, columns=dumm_cols, drop_first=True)\n",
    "\n",
    "# 확인\n",
    "file1.head()"
   ]
  },
  {
   "cell_type": "code",
   "execution_count": 16,
   "metadata": {
    "id": "mKdqMtGjtFSq"
   },
   "outputs": [],
   "source": [
    "file1['pred_wait']=file1['waiting_time'].shift(-1)"
   ]
  },
  {
   "cell_type": "code",
   "execution_count": 17,
   "metadata": {
    "tags": []
   },
   "outputs": [],
   "source": [
    "file1.dropna(axis=0, inplace=True)"
   ]
  },
  {
   "cell_type": "code",
   "execution_count": 18,
   "metadata": {
    "tags": []
   },
   "outputs": [
    {
     "data": {
      "text/html": [
       "<div>\n",
       "<style scoped>\n",
       "    .dataframe tbody tr th:only-of-type {\n",
       "        vertical-align: middle;\n",
       "    }\n",
       "\n",
       "    .dataframe tbody tr th {\n",
       "        vertical-align: top;\n",
       "    }\n",
       "\n",
       "    .dataframe thead th {\n",
       "        text-align: right;\n",
       "    }\n",
       "</style>\n",
       "<table border=\"1\" class=\"dataframe\">\n",
       "  <thead>\n",
       "    <tr style=\"text-align: right;\">\n",
       "      <th></th>\n",
       "      <th>Date</th>\n",
       "      <th>car_cnt</th>\n",
       "      <th>request_cnt</th>\n",
       "      <th>ride_cnt</th>\n",
       "      <th>waiting_time</th>\n",
       "      <th>fare</th>\n",
       "      <th>distance</th>\n",
       "      <th>week</th>\n",
       "      <th>year</th>\n",
       "      <th>temp_max</th>\n",
       "      <th>...</th>\n",
       "      <th>month_11월</th>\n",
       "      <th>month_12월</th>\n",
       "      <th>holiday_1</th>\n",
       "      <th>weekday_1</th>\n",
       "      <th>weekday_2</th>\n",
       "      <th>weekday_3</th>\n",
       "      <th>weekday_4</th>\n",
       "      <th>weekday_5</th>\n",
       "      <th>weekday_6</th>\n",
       "      <th>pred_wait</th>\n",
       "    </tr>\n",
       "  </thead>\n",
       "  <tbody>\n",
       "    <tr>\n",
       "      <th>0</th>\n",
       "      <td>2015-01-07</td>\n",
       "      <td>410</td>\n",
       "      <td>4085</td>\n",
       "      <td>3676</td>\n",
       "      <td>24.7</td>\n",
       "      <td>2230</td>\n",
       "      <td>8646</td>\n",
       "      <td>2</td>\n",
       "      <td>2015</td>\n",
       "      <td>-0.2</td>\n",
       "      <td>...</td>\n",
       "      <td>0</td>\n",
       "      <td>0</td>\n",
       "      <td>0</td>\n",
       "      <td>0</td>\n",
       "      <td>1</td>\n",
       "      <td>0</td>\n",
       "      <td>0</td>\n",
       "      <td>0</td>\n",
       "      <td>0</td>\n",
       "      <td>21.2</td>\n",
       "    </tr>\n",
       "    <tr>\n",
       "      <th>1</th>\n",
       "      <td>2015-01-08</td>\n",
       "      <td>419</td>\n",
       "      <td>4030</td>\n",
       "      <td>3728</td>\n",
       "      <td>21.2</td>\n",
       "      <td>2231</td>\n",
       "      <td>8683</td>\n",
       "      <td>2</td>\n",
       "      <td>2015</td>\n",
       "      <td>3.2</td>\n",
       "      <td>...</td>\n",
       "      <td>0</td>\n",
       "      <td>0</td>\n",
       "      <td>0</td>\n",
       "      <td>0</td>\n",
       "      <td>0</td>\n",
       "      <td>1</td>\n",
       "      <td>0</td>\n",
       "      <td>0</td>\n",
       "      <td>0</td>\n",
       "      <td>21.8</td>\n",
       "    </tr>\n",
       "    <tr>\n",
       "      <th>2</th>\n",
       "      <td>2015-01-09</td>\n",
       "      <td>424</td>\n",
       "      <td>4167</td>\n",
       "      <td>3813</td>\n",
       "      <td>21.8</td>\n",
       "      <td>2215</td>\n",
       "      <td>8506</td>\n",
       "      <td>2</td>\n",
       "      <td>2015</td>\n",
       "      <td>4.3</td>\n",
       "      <td>...</td>\n",
       "      <td>0</td>\n",
       "      <td>0</td>\n",
       "      <td>0</td>\n",
       "      <td>0</td>\n",
       "      <td>0</td>\n",
       "      <td>0</td>\n",
       "      <td>1</td>\n",
       "      <td>0</td>\n",
       "      <td>0</td>\n",
       "      <td>41.2</td>\n",
       "    </tr>\n",
       "    <tr>\n",
       "      <th>3</th>\n",
       "      <td>2015-01-10</td>\n",
       "      <td>215</td>\n",
       "      <td>1916</td>\n",
       "      <td>1645</td>\n",
       "      <td>41.2</td>\n",
       "      <td>2447</td>\n",
       "      <td>11123</td>\n",
       "      <td>2</td>\n",
       "      <td>2015</td>\n",
       "      <td>2.3</td>\n",
       "      <td>...</td>\n",
       "      <td>0</td>\n",
       "      <td>0</td>\n",
       "      <td>0</td>\n",
       "      <td>0</td>\n",
       "      <td>0</td>\n",
       "      <td>0</td>\n",
       "      <td>0</td>\n",
       "      <td>1</td>\n",
       "      <td>0</td>\n",
       "      <td>28.8</td>\n",
       "    </tr>\n",
       "    <tr>\n",
       "      <th>4</th>\n",
       "      <td>2015-01-11</td>\n",
       "      <td>187</td>\n",
       "      <td>1700</td>\n",
       "      <td>1572</td>\n",
       "      <td>28.8</td>\n",
       "      <td>2419</td>\n",
       "      <td>10806</td>\n",
       "      <td>2</td>\n",
       "      <td>2015</td>\n",
       "      <td>3.4</td>\n",
       "      <td>...</td>\n",
       "      <td>0</td>\n",
       "      <td>0</td>\n",
       "      <td>0</td>\n",
       "      <td>0</td>\n",
       "      <td>0</td>\n",
       "      <td>0</td>\n",
       "      <td>0</td>\n",
       "      <td>0</td>\n",
       "      <td>1</td>\n",
       "      <td>23.2</td>\n",
       "    </tr>\n",
       "    <tr>\n",
       "      <th>...</th>\n",
       "      <td>...</td>\n",
       "      <td>...</td>\n",
       "      <td>...</td>\n",
       "      <td>...</td>\n",
       "      <td>...</td>\n",
       "      <td>...</td>\n",
       "      <td>...</td>\n",
       "      <td>...</td>\n",
       "      <td>...</td>\n",
       "      <td>...</td>\n",
       "      <td>...</td>\n",
       "      <td>...</td>\n",
       "      <td>...</td>\n",
       "      <td>...</td>\n",
       "      <td>...</td>\n",
       "      <td>...</td>\n",
       "      <td>...</td>\n",
       "      <td>...</td>\n",
       "      <td>...</td>\n",
       "      <td>...</td>\n",
       "      <td>...</td>\n",
       "    </tr>\n",
       "    <tr>\n",
       "      <th>2910</th>\n",
       "      <td>2022-12-25</td>\n",
       "      <td>217</td>\n",
       "      <td>1945</td>\n",
       "      <td>1588</td>\n",
       "      <td>38.7</td>\n",
       "      <td>2416</td>\n",
       "      <td>10212</td>\n",
       "      <td>51</td>\n",
       "      <td>2022</td>\n",
       "      <td>1.5</td>\n",
       "      <td>...</td>\n",
       "      <td>0</td>\n",
       "      <td>1</td>\n",
       "      <td>1</td>\n",
       "      <td>0</td>\n",
       "      <td>0</td>\n",
       "      <td>0</td>\n",
       "      <td>0</td>\n",
       "      <td>0</td>\n",
       "      <td>1</td>\n",
       "      <td>39.2</td>\n",
       "    </tr>\n",
       "    <tr>\n",
       "      <th>2911</th>\n",
       "      <td>2022-12-26</td>\n",
       "      <td>603</td>\n",
       "      <td>5555</td>\n",
       "      <td>4605</td>\n",
       "      <td>39.2</td>\n",
       "      <td>2163</td>\n",
       "      <td>7889</td>\n",
       "      <td>52</td>\n",
       "      <td>2022</td>\n",
       "      <td>3.0</td>\n",
       "      <td>...</td>\n",
       "      <td>0</td>\n",
       "      <td>1</td>\n",
       "      <td>0</td>\n",
       "      <td>0</td>\n",
       "      <td>0</td>\n",
       "      <td>0</td>\n",
       "      <td>0</td>\n",
       "      <td>0</td>\n",
       "      <td>0</td>\n",
       "      <td>44.4</td>\n",
       "    </tr>\n",
       "    <tr>\n",
       "      <th>2912</th>\n",
       "      <td>2022-12-27</td>\n",
       "      <td>669</td>\n",
       "      <td>5635</td>\n",
       "      <td>4654</td>\n",
       "      <td>44.4</td>\n",
       "      <td>2198</td>\n",
       "      <td>8178</td>\n",
       "      <td>52</td>\n",
       "      <td>2022</td>\n",
       "      <td>-0.3</td>\n",
       "      <td>...</td>\n",
       "      <td>0</td>\n",
       "      <td>1</td>\n",
       "      <td>0</td>\n",
       "      <td>1</td>\n",
       "      <td>0</td>\n",
       "      <td>0</td>\n",
       "      <td>0</td>\n",
       "      <td>0</td>\n",
       "      <td>0</td>\n",
       "      <td>44.8</td>\n",
       "    </tr>\n",
       "    <tr>\n",
       "      <th>2913</th>\n",
       "      <td>2022-12-28</td>\n",
       "      <td>607</td>\n",
       "      <td>5654</td>\n",
       "      <td>4648</td>\n",
       "      <td>44.8</td>\n",
       "      <td>2161</td>\n",
       "      <td>7882</td>\n",
       "      <td>52</td>\n",
       "      <td>2022</td>\n",
       "      <td>1.7</td>\n",
       "      <td>...</td>\n",
       "      <td>0</td>\n",
       "      <td>1</td>\n",
       "      <td>0</td>\n",
       "      <td>0</td>\n",
       "      <td>1</td>\n",
       "      <td>0</td>\n",
       "      <td>0</td>\n",
       "      <td>0</td>\n",
       "      <td>0</td>\n",
       "      <td>52.5</td>\n",
       "    </tr>\n",
       "    <tr>\n",
       "      <th>2914</th>\n",
       "      <td>2022-12-29</td>\n",
       "      <td>581</td>\n",
       "      <td>5250</td>\n",
       "      <td>4247</td>\n",
       "      <td>52.5</td>\n",
       "      <td>2229</td>\n",
       "      <td>8433</td>\n",
       "      <td>52</td>\n",
       "      <td>2022</td>\n",
       "      <td>2.1</td>\n",
       "      <td>...</td>\n",
       "      <td>0</td>\n",
       "      <td>1</td>\n",
       "      <td>0</td>\n",
       "      <td>0</td>\n",
       "      <td>0</td>\n",
       "      <td>1</td>\n",
       "      <td>0</td>\n",
       "      <td>0</td>\n",
       "      <td>0</td>\n",
       "      <td>38.3</td>\n",
       "    </tr>\n",
       "  </tbody>\n",
       "</table>\n",
       "<p>2915 rows × 39 columns</p>\n",
       "</div>"
      ],
      "text/plain": [
       "           Date  car_cnt  request_cnt  ride_cnt  waiting_time  fare  distance  \\\n",
       "0    2015-01-07      410         4085      3676          24.7  2230      8646   \n",
       "1    2015-01-08      419         4030      3728          21.2  2231      8683   \n",
       "2    2015-01-09      424         4167      3813          21.8  2215      8506   \n",
       "3    2015-01-10      215         1916      1645          41.2  2447     11123   \n",
       "4    2015-01-11      187         1700      1572          28.8  2419     10806   \n",
       "...         ...      ...          ...       ...           ...   ...       ...   \n",
       "2910 2022-12-25      217         1945      1588          38.7  2416     10212   \n",
       "2911 2022-12-26      603         5555      4605          39.2  2163      7889   \n",
       "2912 2022-12-27      669         5635      4654          44.4  2198      8178   \n",
       "2913 2022-12-28      607         5654      4648          44.8  2161      7882   \n",
       "2914 2022-12-29      581         5250      4247          52.5  2229      8433   \n",
       "\n",
       "      week  year  temp_max  ...  month_11월  month_12월  holiday_1  weekday_1  \\\n",
       "0        2  2015      -0.2  ...          0          0          0          0   \n",
       "1        2  2015       3.2  ...          0          0          0          0   \n",
       "2        2  2015       4.3  ...          0          0          0          0   \n",
       "3        2  2015       2.3  ...          0          0          0          0   \n",
       "4        2  2015       3.4  ...          0          0          0          0   \n",
       "...    ...   ...       ...  ...        ...        ...        ...        ...   \n",
       "2910    51  2022       1.5  ...          0          1          1          0   \n",
       "2911    52  2022       3.0  ...          0          1          0          0   \n",
       "2912    52  2022      -0.3  ...          0          1          0          1   \n",
       "2913    52  2022       1.7  ...          0          1          0          0   \n",
       "2914    52  2022       2.1  ...          0          1          0          0   \n",
       "\n",
       "      weekday_2  weekday_3  weekday_4  weekday_5  weekday_6  pred_wait  \n",
       "0             1          0          0          0          0       21.2  \n",
       "1             0          1          0          0          0       21.8  \n",
       "2             0          0          1          0          0       41.2  \n",
       "3             0          0          0          1          0       28.8  \n",
       "4             0          0          0          0          1       23.2  \n",
       "...         ...        ...        ...        ...        ...        ...  \n",
       "2910          0          0          0          0          1       39.2  \n",
       "2911          0          0          0          0          0       44.4  \n",
       "2912          0          0          0          0          0       44.8  \n",
       "2913          1          0          0          0          0       52.5  \n",
       "2914          0          1          0          0          0       38.3  \n",
       "\n",
       "[2915 rows x 39 columns]"
      ]
     },
     "execution_count": 18,
     "metadata": {},
     "output_type": "execute_result"
    }
   ],
   "source": [
    "file1.reset_index(drop=True, inplace=True)\n",
    "file1"
   ]
  },
  {
   "cell_type": "markdown",
   "metadata": {
    "id": "WpJEGpUuuVWm"
   },
   "source": [
    "### (3) 데이터분할\n",
    "* **세부요구사항**\n",
    "    * 마지막 91일 간의 데이터를 검증 셋으로 만듭니다. (2022-10-01 ~ )\n",
    "    * 이 기간의 날짜 리스트를 별도로 저장하여, 모델 검증시 시각화할 때 활용합니다."
   ]
  },
  {
   "cell_type": "code",
   "execution_count": 19,
   "metadata": {
    "tags": []
   },
   "outputs": [],
   "source": [
    "drop_cols = ['year']\n",
    "file1.drop(drop_cols, axis=1, inplace=True)"
   ]
  },
  {
   "cell_type": "code",
   "execution_count": 20,
   "metadata": {
    "id": "MkhKUJj_vOQD"
   },
   "outputs": [],
   "source": [
    "file1 = file1.set_index(keys='Date')"
   ]
  },
  {
   "cell_type": "markdown",
   "metadata": {
    "id": "yRR53accpDHL"
   },
   "source": [
    "#### 1) x, y 나누기"
   ]
  },
  {
   "cell_type": "code",
   "execution_count": 21,
   "metadata": {
    "id": "N-4Msv8VsQ3R"
   },
   "outputs": [],
   "source": [
    "target='pred_wait'\n",
    "\n",
    "# 데이터 분리\n",
    "x=file1.drop(target,axis=1)\n",
    "y=file1.loc[:,target]"
   ]
  },
  {
   "cell_type": "markdown",
   "metadata": {
    "id": "VBwpOKgkf5Am"
   },
   "source": [
    "#### 2) train : validation 나누기\n",
    "* 힌트 : train_test_split(  ,   ,  test_size = 91, shuffle = False) "
   ]
  },
  {
   "cell_type": "code",
   "execution_count": 22,
   "metadata": {
    "id": "1iHmTnHCgBw5"
   },
   "outputs": [],
   "source": [
    "from sklearn.model_selection import train_test_split\n",
    "\n",
    "# 7:3으로 분리\n",
    "x_train, x_test, y_train, y_test=train_test_split(x,y, test_size=91,shuffle=False)"
   ]
  },
  {
   "cell_type": "markdown",
   "metadata": {
    "id": "59bBv0a8heYh"
   },
   "source": [
    "### (4) Scaling\n",
    "* KNN, SVM 알고리즘 및 DL을 적용하기 위해서는 스케일링을 해야 합니다."
   ]
  },
  {
   "cell_type": "code",
   "execution_count": 23,
   "metadata": {
    "id": "RuDcjwhwSo5y"
   },
   "outputs": [],
   "source": [
    "from sklearn.preprocessing import MinMaxScaler\n",
    "\n",
    "# 정규화\n",
    "scaler = MinMaxScaler()\n",
    "scaler.fit(x_train)\n",
    "x_train_s = scaler.transform(x_train)\n",
    "x_test_s = scaler.transform(x_test)"
   ]
  },
  {
   "cell_type": "markdown",
   "metadata": {
    "id": "30TsHQqzMSbJ"
   },
   "source": [
    "## 3.모델링\n",
    "* **세부요구사항**\n",
    "    * 머신러닝 알고리즘 중 3가지 이상을 사용하여 모델을 만들고 튜닝을 수행합니다.\n",
    "    * 딥러닝 모델 구조 2가지 이상을 설계하고 모델을 생성합니다.\n",
    "    * 성능 측정은 MAE, MAPE로 수행합니다.\n",
    "    * 모델링 후 실제값과 예측값을 시각화(라인차트)하여 분석합니다."
   ]
  },
  {
   "cell_type": "code",
   "execution_count": 24,
   "metadata": {
    "id": "9NIx9yoHZDyp"
   },
   "outputs": [],
   "source": [
    "# 라이브러리 불러오기\n",
    "from sklearn.linear_model import LinearRegression\n",
    "from sklearn.neighbors import KNeighborsRegressor\n",
    "from sklearn.tree import DecisionTreeRegressor\n",
    "from sklearn.ensemble import RandomForestRegressor\n",
    "from xgboost import XGBRegressor\n",
    "from lightgbm import LGBMRegressor\n",
    "\n",
    "from sklearn.metrics import mean_absolute_error, r2_score\n"
   ]
  },
  {
   "cell_type": "markdown",
   "metadata": {
    "id": "ztJOSw2_MaHs"
   },
   "source": [
    "### (1) 머신러닝"
   ]
  },
  {
   "cell_type": "code",
   "execution_count": 25,
   "metadata": {
    "tags": []
   },
   "outputs": [
    {
     "name": "stdout",
     "output_type": "stream",
     "text": [
      "<class 'pandas.core.frame.DataFrame'>\n",
      "DatetimeIndex: 2915 entries, 2015-01-07 to 2022-12-29\n",
      "Data columns (total 37 columns):\n",
      " #   Column              Non-Null Count  Dtype  \n",
      "---  ------              --------------  -----  \n",
      " 0   car_cnt             2915 non-null   int64  \n",
      " 1   request_cnt         2915 non-null   int64  \n",
      " 2   ride_cnt            2915 non-null   int64  \n",
      " 3   waiting_time        2915 non-null   float64\n",
      " 4   fare                2915 non-null   int64  \n",
      " 5   distance            2915 non-null   int64  \n",
      " 6   week                2915 non-null   int64  \n",
      " 7   temp_max            2915 non-null   float64\n",
      " 8   temp_min            2915 non-null   float64\n",
      " 9   rain(mm)            2915 non-null   float64\n",
      " 10  humidity_max(%)     2915 non-null   float64\n",
      " 11  humidity_min(%)     2915 non-null   float64\n",
      " 12  sunshine(MJ/m2)     2915 non-null   float64\n",
      " 13  waiting_time(mean)  2915 non-null   float64\n",
      " 14  ride_rate           2915 non-null   float64\n",
      " 15  season_겨울           2915 non-null   uint8  \n",
      " 16  season_봄            2915 non-null   uint8  \n",
      " 17  season_여름           2915 non-null   uint8  \n",
      " 18  month_2월            2915 non-null   uint8  \n",
      " 19  month_3월            2915 non-null   uint8  \n",
      " 20  month_4월            2915 non-null   uint8  \n",
      " 21  month_5월            2915 non-null   uint8  \n",
      " 22  month_6월            2915 non-null   uint8  \n",
      " 23  month_7월            2915 non-null   uint8  \n",
      " 24  month_8월            2915 non-null   uint8  \n",
      " 25  month_9월            2915 non-null   uint8  \n",
      " 26  month_10월           2915 non-null   uint8  \n",
      " 27  month_11월           2915 non-null   uint8  \n",
      " 28  month_12월           2915 non-null   uint8  \n",
      " 29  holiday_1           2915 non-null   uint8  \n",
      " 30  weekday_1           2915 non-null   uint8  \n",
      " 31  weekday_2           2915 non-null   uint8  \n",
      " 32  weekday_3           2915 non-null   uint8  \n",
      " 33  weekday_4           2915 non-null   uint8  \n",
      " 34  weekday_5           2915 non-null   uint8  \n",
      " 35  weekday_6           2915 non-null   uint8  \n",
      " 36  pred_wait           2915 non-null   float64\n",
      "dtypes: float64(10), int64(6), uint8(21)\n",
      "memory usage: 446.9 KB\n"
     ]
    }
   ],
   "source": [
    "file1.info()"
   ]
  },
  {
   "cell_type": "markdown",
   "metadata": {
    "id": "Xb0VvIreaRZF"
   },
   "source": [
    "#### 1) 모델1"
   ]
  },
  {
   "cell_type": "code",
   "execution_count": 26,
   "metadata": {
    "id": "dIuWc-NuMZ91"
   },
   "outputs": [],
   "source": [
    "from sklearn.metrics import mean_absolute_percentage_error\n"
   ]
  },
  {
   "cell_type": "code",
   "execution_count": 27,
   "metadata": {
    "tags": []
   },
   "outputs": [
    {
     "data": {
      "text/html": [
       "<style>#sk-container-id-1 {color: black;background-color: white;}#sk-container-id-1 pre{padding: 0;}#sk-container-id-1 div.sk-toggleable {background-color: white;}#sk-container-id-1 label.sk-toggleable__label {cursor: pointer;display: block;width: 100%;margin-bottom: 0;padding: 0.3em;box-sizing: border-box;text-align: center;}#sk-container-id-1 label.sk-toggleable__label-arrow:before {content: \"▸\";float: left;margin-right: 0.25em;color: #696969;}#sk-container-id-1 label.sk-toggleable__label-arrow:hover:before {color: black;}#sk-container-id-1 div.sk-estimator:hover label.sk-toggleable__label-arrow:before {color: black;}#sk-container-id-1 div.sk-toggleable__content {max-height: 0;max-width: 0;overflow: hidden;text-align: left;background-color: #f0f8ff;}#sk-container-id-1 div.sk-toggleable__content pre {margin: 0.2em;color: black;border-radius: 0.25em;background-color: #f0f8ff;}#sk-container-id-1 input.sk-toggleable__control:checked~div.sk-toggleable__content {max-height: 200px;max-width: 100%;overflow: auto;}#sk-container-id-1 input.sk-toggleable__control:checked~label.sk-toggleable__label-arrow:before {content: \"▾\";}#sk-container-id-1 div.sk-estimator input.sk-toggleable__control:checked~label.sk-toggleable__label {background-color: #d4ebff;}#sk-container-id-1 div.sk-label input.sk-toggleable__control:checked~label.sk-toggleable__label {background-color: #d4ebff;}#sk-container-id-1 input.sk-hidden--visually {border: 0;clip: rect(1px 1px 1px 1px);clip: rect(1px, 1px, 1px, 1px);height: 1px;margin: -1px;overflow: hidden;padding: 0;position: absolute;width: 1px;}#sk-container-id-1 div.sk-estimator {font-family: monospace;background-color: #f0f8ff;border: 1px dotted black;border-radius: 0.25em;box-sizing: border-box;margin-bottom: 0.5em;}#sk-container-id-1 div.sk-estimator:hover {background-color: #d4ebff;}#sk-container-id-1 div.sk-parallel-item::after {content: \"\";width: 100%;border-bottom: 1px solid gray;flex-grow: 1;}#sk-container-id-1 div.sk-label:hover label.sk-toggleable__label {background-color: #d4ebff;}#sk-container-id-1 div.sk-serial::before {content: \"\";position: absolute;border-left: 1px solid gray;box-sizing: border-box;top: 0;bottom: 0;left: 50%;z-index: 0;}#sk-container-id-1 div.sk-serial {display: flex;flex-direction: column;align-items: center;background-color: white;padding-right: 0.2em;padding-left: 0.2em;position: relative;}#sk-container-id-1 div.sk-item {position: relative;z-index: 1;}#sk-container-id-1 div.sk-parallel {display: flex;align-items: stretch;justify-content: center;background-color: white;position: relative;}#sk-container-id-1 div.sk-item::before, #sk-container-id-1 div.sk-parallel-item::before {content: \"\";position: absolute;border-left: 1px solid gray;box-sizing: border-box;top: 0;bottom: 0;left: 50%;z-index: -1;}#sk-container-id-1 div.sk-parallel-item {display: flex;flex-direction: column;z-index: 1;position: relative;background-color: white;}#sk-container-id-1 div.sk-parallel-item:first-child::after {align-self: flex-end;width: 50%;}#sk-container-id-1 div.sk-parallel-item:last-child::after {align-self: flex-start;width: 50%;}#sk-container-id-1 div.sk-parallel-item:only-child::after {width: 0;}#sk-container-id-1 div.sk-dashed-wrapped {border: 1px dashed gray;margin: 0 0.4em 0.5em 0.4em;box-sizing: border-box;padding-bottom: 0.4em;background-color: white;}#sk-container-id-1 div.sk-label label {font-family: monospace;font-weight: bold;display: inline-block;line-height: 1.2em;}#sk-container-id-1 div.sk-label-container {text-align: center;}#sk-container-id-1 div.sk-container {/* jupyter's `normalize.less` sets `[hidden] { display: none; }` but bootstrap.min.css set `[hidden] { display: none !important; }` so we also need the `!important` here to be able to override the default hidden behavior on the sphinx rendered scikit-learn.org. See: https://github.com/scikit-learn/scikit-learn/issues/21755 */display: inline-block !important;position: relative;}#sk-container-id-1 div.sk-text-repr-fallback {display: none;}</style><div id=\"sk-container-id-1\" class=\"sk-top-container\"><div class=\"sk-text-repr-fallback\"><pre>LinearRegression()</pre><b>In a Jupyter environment, please rerun this cell to show the HTML representation or trust the notebook. <br />On GitHub, the HTML representation is unable to render, please try loading this page with nbviewer.org.</b></div><div class=\"sk-container\" hidden><div class=\"sk-item\"><div class=\"sk-estimator sk-toggleable\"><input class=\"sk-toggleable__control sk-hidden--visually\" id=\"sk-estimator-id-1\" type=\"checkbox\" checked><label for=\"sk-estimator-id-1\" class=\"sk-toggleable__label sk-toggleable__label-arrow\">LinearRegression</label><div class=\"sk-toggleable__content\"><pre>LinearRegression()</pre></div></div></div></div></div>"
      ],
      "text/plain": [
       "LinearRegression()"
      ]
     },
     "execution_count": 27,
     "metadata": {},
     "output_type": "execute_result"
    }
   ],
   "source": [
    "model = LinearRegression()\n",
    "model.fit(x_train_s,y_train)"
   ]
  },
  {
   "cell_type": "code",
   "execution_count": 28,
   "metadata": {
    "tags": []
   },
   "outputs": [],
   "source": [
    "y_pred=model.predict(x_test_s)"
   ]
  },
  {
   "cell_type": "code",
   "execution_count": 29,
   "metadata": {
    "id": "dZWz4v3DMZ7S"
   },
   "outputs": [
    {
     "name": "stdout",
     "output_type": "stream",
     "text": [
      "MAE: 4.26781161466279\n",
      "R2-Score: 0.040416774774623354\n",
      "MAPE: 0.10671615807571794\n"
     ]
    }
   ],
   "source": [
    "print('MAE:', mean_absolute_error(y_test, y_pred))\n",
    "print('R2-Score:', r2_score(y_test, y_pred))\n",
    "print('MAPE:' , mean_absolute_percentage_error(y_test,y_pred))"
   ]
  },
  {
   "cell_type": "markdown",
   "metadata": {
    "id": "hthJE54INBFD"
   },
   "source": [
    "#### 2) 모델2"
   ]
  },
  {
   "cell_type": "code",
   "execution_count": 30,
   "metadata": {
    "id": "SWIYJuN2tNul"
   },
   "outputs": [
    {
     "data": {
      "text/html": [
       "<style>#sk-container-id-2 {color: black;background-color: white;}#sk-container-id-2 pre{padding: 0;}#sk-container-id-2 div.sk-toggleable {background-color: white;}#sk-container-id-2 label.sk-toggleable__label {cursor: pointer;display: block;width: 100%;margin-bottom: 0;padding: 0.3em;box-sizing: border-box;text-align: center;}#sk-container-id-2 label.sk-toggleable__label-arrow:before {content: \"▸\";float: left;margin-right: 0.25em;color: #696969;}#sk-container-id-2 label.sk-toggleable__label-arrow:hover:before {color: black;}#sk-container-id-2 div.sk-estimator:hover label.sk-toggleable__label-arrow:before {color: black;}#sk-container-id-2 div.sk-toggleable__content {max-height: 0;max-width: 0;overflow: hidden;text-align: left;background-color: #f0f8ff;}#sk-container-id-2 div.sk-toggleable__content pre {margin: 0.2em;color: black;border-radius: 0.25em;background-color: #f0f8ff;}#sk-container-id-2 input.sk-toggleable__control:checked~div.sk-toggleable__content {max-height: 200px;max-width: 100%;overflow: auto;}#sk-container-id-2 input.sk-toggleable__control:checked~label.sk-toggleable__label-arrow:before {content: \"▾\";}#sk-container-id-2 div.sk-estimator input.sk-toggleable__control:checked~label.sk-toggleable__label {background-color: #d4ebff;}#sk-container-id-2 div.sk-label input.sk-toggleable__control:checked~label.sk-toggleable__label {background-color: #d4ebff;}#sk-container-id-2 input.sk-hidden--visually {border: 0;clip: rect(1px 1px 1px 1px);clip: rect(1px, 1px, 1px, 1px);height: 1px;margin: -1px;overflow: hidden;padding: 0;position: absolute;width: 1px;}#sk-container-id-2 div.sk-estimator {font-family: monospace;background-color: #f0f8ff;border: 1px dotted black;border-radius: 0.25em;box-sizing: border-box;margin-bottom: 0.5em;}#sk-container-id-2 div.sk-estimator:hover {background-color: #d4ebff;}#sk-container-id-2 div.sk-parallel-item::after {content: \"\";width: 100%;border-bottom: 1px solid gray;flex-grow: 1;}#sk-container-id-2 div.sk-label:hover label.sk-toggleable__label {background-color: #d4ebff;}#sk-container-id-2 div.sk-serial::before {content: \"\";position: absolute;border-left: 1px solid gray;box-sizing: border-box;top: 0;bottom: 0;left: 50%;z-index: 0;}#sk-container-id-2 div.sk-serial {display: flex;flex-direction: column;align-items: center;background-color: white;padding-right: 0.2em;padding-left: 0.2em;position: relative;}#sk-container-id-2 div.sk-item {position: relative;z-index: 1;}#sk-container-id-2 div.sk-parallel {display: flex;align-items: stretch;justify-content: center;background-color: white;position: relative;}#sk-container-id-2 div.sk-item::before, #sk-container-id-2 div.sk-parallel-item::before {content: \"\";position: absolute;border-left: 1px solid gray;box-sizing: border-box;top: 0;bottom: 0;left: 50%;z-index: -1;}#sk-container-id-2 div.sk-parallel-item {display: flex;flex-direction: column;z-index: 1;position: relative;background-color: white;}#sk-container-id-2 div.sk-parallel-item:first-child::after {align-self: flex-end;width: 50%;}#sk-container-id-2 div.sk-parallel-item:last-child::after {align-self: flex-start;width: 50%;}#sk-container-id-2 div.sk-parallel-item:only-child::after {width: 0;}#sk-container-id-2 div.sk-dashed-wrapped {border: 1px dashed gray;margin: 0 0.4em 0.5em 0.4em;box-sizing: border-box;padding-bottom: 0.4em;background-color: white;}#sk-container-id-2 div.sk-label label {font-family: monospace;font-weight: bold;display: inline-block;line-height: 1.2em;}#sk-container-id-2 div.sk-label-container {text-align: center;}#sk-container-id-2 div.sk-container {/* jupyter's `normalize.less` sets `[hidden] { display: none; }` but bootstrap.min.css set `[hidden] { display: none !important; }` so we also need the `!important` here to be able to override the default hidden behavior on the sphinx rendered scikit-learn.org. See: https://github.com/scikit-learn/scikit-learn/issues/21755 */display: inline-block !important;position: relative;}#sk-container-id-2 div.sk-text-repr-fallback {display: none;}</style><div id=\"sk-container-id-2\" class=\"sk-top-container\"><div class=\"sk-text-repr-fallback\"><pre>DecisionTreeRegressor(max_depth=5)</pre><b>In a Jupyter environment, please rerun this cell to show the HTML representation or trust the notebook. <br />On GitHub, the HTML representation is unable to render, please try loading this page with nbviewer.org.</b></div><div class=\"sk-container\" hidden><div class=\"sk-item\"><div class=\"sk-estimator sk-toggleable\"><input class=\"sk-toggleable__control sk-hidden--visually\" id=\"sk-estimator-id-2\" type=\"checkbox\" checked><label for=\"sk-estimator-id-2\" class=\"sk-toggleable__label sk-toggleable__label-arrow\">DecisionTreeRegressor</label><div class=\"sk-toggleable__content\"><pre>DecisionTreeRegressor(max_depth=5)</pre></div></div></div></div></div>"
      ],
      "text/plain": [
       "DecisionTreeRegressor(max_depth=5)"
      ]
     },
     "execution_count": 30,
     "metadata": {},
     "output_type": "execute_result"
    }
   ],
   "source": [
    "model = DecisionTreeRegressor(max_depth=5)\n",
    "# 성능예측\n",
    "model.fit(x_train,y_train)"
   ]
  },
  {
   "cell_type": "code",
   "execution_count": 31,
   "metadata": {
    "id": "QY0t_8tctNul"
   },
   "outputs": [
    {
     "name": "stdout",
     "output_type": "stream",
     "text": [
      "MAE: 5.100327403185084\n",
      "R2-Score: -0.14015776748676867\n",
      "MAPE: 0.12337580345770038\n"
     ]
    }
   ],
   "source": [
    "y_pred = model.predict(x_test)\n",
    "# 평가하기\n",
    "print('MAE:', mean_absolute_error(y_test, y_pred))\n",
    "print('R2-Score:', r2_score(y_test, y_pred))\n",
    "print('MAPE:' , mean_absolute_percentage_error(y_test,y_pred))"
   ]
  },
  {
   "cell_type": "markdown",
   "metadata": {
    "id": "Xc5u-D-yNCJc"
   },
   "source": [
    "#### 3) 모델3"
   ]
  },
  {
   "cell_type": "code",
   "execution_count": 32,
   "metadata": {
    "id": "6wz81_3otO-r"
   },
   "outputs": [
    {
     "data": {
      "text/html": [
       "<style>#sk-container-id-3 {color: black;background-color: white;}#sk-container-id-3 pre{padding: 0;}#sk-container-id-3 div.sk-toggleable {background-color: white;}#sk-container-id-3 label.sk-toggleable__label {cursor: pointer;display: block;width: 100%;margin-bottom: 0;padding: 0.3em;box-sizing: border-box;text-align: center;}#sk-container-id-3 label.sk-toggleable__label-arrow:before {content: \"▸\";float: left;margin-right: 0.25em;color: #696969;}#sk-container-id-3 label.sk-toggleable__label-arrow:hover:before {color: black;}#sk-container-id-3 div.sk-estimator:hover label.sk-toggleable__label-arrow:before {color: black;}#sk-container-id-3 div.sk-toggleable__content {max-height: 0;max-width: 0;overflow: hidden;text-align: left;background-color: #f0f8ff;}#sk-container-id-3 div.sk-toggleable__content pre {margin: 0.2em;color: black;border-radius: 0.25em;background-color: #f0f8ff;}#sk-container-id-3 input.sk-toggleable__control:checked~div.sk-toggleable__content {max-height: 200px;max-width: 100%;overflow: auto;}#sk-container-id-3 input.sk-toggleable__control:checked~label.sk-toggleable__label-arrow:before {content: \"▾\";}#sk-container-id-3 div.sk-estimator input.sk-toggleable__control:checked~label.sk-toggleable__label {background-color: #d4ebff;}#sk-container-id-3 div.sk-label input.sk-toggleable__control:checked~label.sk-toggleable__label {background-color: #d4ebff;}#sk-container-id-3 input.sk-hidden--visually {border: 0;clip: rect(1px 1px 1px 1px);clip: rect(1px, 1px, 1px, 1px);height: 1px;margin: -1px;overflow: hidden;padding: 0;position: absolute;width: 1px;}#sk-container-id-3 div.sk-estimator {font-family: monospace;background-color: #f0f8ff;border: 1px dotted black;border-radius: 0.25em;box-sizing: border-box;margin-bottom: 0.5em;}#sk-container-id-3 div.sk-estimator:hover {background-color: #d4ebff;}#sk-container-id-3 div.sk-parallel-item::after {content: \"\";width: 100%;border-bottom: 1px solid gray;flex-grow: 1;}#sk-container-id-3 div.sk-label:hover label.sk-toggleable__label {background-color: #d4ebff;}#sk-container-id-3 div.sk-serial::before {content: \"\";position: absolute;border-left: 1px solid gray;box-sizing: border-box;top: 0;bottom: 0;left: 50%;z-index: 0;}#sk-container-id-3 div.sk-serial {display: flex;flex-direction: column;align-items: center;background-color: white;padding-right: 0.2em;padding-left: 0.2em;position: relative;}#sk-container-id-3 div.sk-item {position: relative;z-index: 1;}#sk-container-id-3 div.sk-parallel {display: flex;align-items: stretch;justify-content: center;background-color: white;position: relative;}#sk-container-id-3 div.sk-item::before, #sk-container-id-3 div.sk-parallel-item::before {content: \"\";position: absolute;border-left: 1px solid gray;box-sizing: border-box;top: 0;bottom: 0;left: 50%;z-index: -1;}#sk-container-id-3 div.sk-parallel-item {display: flex;flex-direction: column;z-index: 1;position: relative;background-color: white;}#sk-container-id-3 div.sk-parallel-item:first-child::after {align-self: flex-end;width: 50%;}#sk-container-id-3 div.sk-parallel-item:last-child::after {align-self: flex-start;width: 50%;}#sk-container-id-3 div.sk-parallel-item:only-child::after {width: 0;}#sk-container-id-3 div.sk-dashed-wrapped {border: 1px dashed gray;margin: 0 0.4em 0.5em 0.4em;box-sizing: border-box;padding-bottom: 0.4em;background-color: white;}#sk-container-id-3 div.sk-label label {font-family: monospace;font-weight: bold;display: inline-block;line-height: 1.2em;}#sk-container-id-3 div.sk-label-container {text-align: center;}#sk-container-id-3 div.sk-container {/* jupyter's `normalize.less` sets `[hidden] { display: none; }` but bootstrap.min.css set `[hidden] { display: none !important; }` so we also need the `!important` here to be able to override the default hidden behavior on the sphinx rendered scikit-learn.org. See: https://github.com/scikit-learn/scikit-learn/issues/21755 */display: inline-block !important;position: relative;}#sk-container-id-3 div.sk-text-repr-fallback {display: none;}</style><div id=\"sk-container-id-3\" class=\"sk-top-container\"><div class=\"sk-text-repr-fallback\"><pre>LGBMRegressor(max_depth=5, verbose=-100)</pre><b>In a Jupyter environment, please rerun this cell to show the HTML representation or trust the notebook. <br />On GitHub, the HTML representation is unable to render, please try loading this page with nbviewer.org.</b></div><div class=\"sk-container\" hidden><div class=\"sk-item\"><div class=\"sk-estimator sk-toggleable\"><input class=\"sk-toggleable__control sk-hidden--visually\" id=\"sk-estimator-id-3\" type=\"checkbox\" checked><label for=\"sk-estimator-id-3\" class=\"sk-toggleable__label sk-toggleable__label-arrow\">LGBMRegressor</label><div class=\"sk-toggleable__content\"><pre>LGBMRegressor(max_depth=5, verbose=-100)</pre></div></div></div></div></div>"
      ],
      "text/plain": [
       "LGBMRegressor(max_depth=5, verbose=-100)"
      ]
     },
     "execution_count": 32,
     "metadata": {},
     "output_type": "execute_result"
    }
   ],
   "source": [
    "model = LGBMRegressor(max_depth=5, verbose=-100)\n",
    "model.fit(x_train,y_train)"
   ]
  },
  {
   "cell_type": "code",
   "execution_count": 33,
   "metadata": {
    "id": "O-pTRBJAtO-r"
   },
   "outputs": [
    {
     "name": "stdout",
     "output_type": "stream",
     "text": [
      "MAE: 4.669816222539904\n",
      "R2-Score: -0.08049442857698086\n",
      "MAPE: 0.11414683540166679\n"
     ]
    }
   ],
   "source": [
    "y_pred = model.predict(x_test)\n",
    "# 평가하기\n",
    "print('MAE:', mean_absolute_error(y_test, y_pred))\n",
    "print('R2-Score:', r2_score(y_test, y_pred))\n",
    "print('MAPE:' , mean_absolute_percentage_error(y_test,y_pred))"
   ]
  },
  {
   "cell_type": "markdown",
   "metadata": {
    "id": "9uVK1tgEJqKe"
   },
   "source": [
    "#### 4) 모델4"
   ]
  },
  {
   "cell_type": "code",
   "execution_count": 34,
   "metadata": {
    "id": "dWERuYXZJsnR"
   },
   "outputs": [
    {
     "data": {
      "text/html": [
       "<style>#sk-container-id-4 {color: black;background-color: white;}#sk-container-id-4 pre{padding: 0;}#sk-container-id-4 div.sk-toggleable {background-color: white;}#sk-container-id-4 label.sk-toggleable__label {cursor: pointer;display: block;width: 100%;margin-bottom: 0;padding: 0.3em;box-sizing: border-box;text-align: center;}#sk-container-id-4 label.sk-toggleable__label-arrow:before {content: \"▸\";float: left;margin-right: 0.25em;color: #696969;}#sk-container-id-4 label.sk-toggleable__label-arrow:hover:before {color: black;}#sk-container-id-4 div.sk-estimator:hover label.sk-toggleable__label-arrow:before {color: black;}#sk-container-id-4 div.sk-toggleable__content {max-height: 0;max-width: 0;overflow: hidden;text-align: left;background-color: #f0f8ff;}#sk-container-id-4 div.sk-toggleable__content pre {margin: 0.2em;color: black;border-radius: 0.25em;background-color: #f0f8ff;}#sk-container-id-4 input.sk-toggleable__control:checked~div.sk-toggleable__content {max-height: 200px;max-width: 100%;overflow: auto;}#sk-container-id-4 input.sk-toggleable__control:checked~label.sk-toggleable__label-arrow:before {content: \"▾\";}#sk-container-id-4 div.sk-estimator input.sk-toggleable__control:checked~label.sk-toggleable__label {background-color: #d4ebff;}#sk-container-id-4 div.sk-label input.sk-toggleable__control:checked~label.sk-toggleable__label {background-color: #d4ebff;}#sk-container-id-4 input.sk-hidden--visually {border: 0;clip: rect(1px 1px 1px 1px);clip: rect(1px, 1px, 1px, 1px);height: 1px;margin: -1px;overflow: hidden;padding: 0;position: absolute;width: 1px;}#sk-container-id-4 div.sk-estimator {font-family: monospace;background-color: #f0f8ff;border: 1px dotted black;border-radius: 0.25em;box-sizing: border-box;margin-bottom: 0.5em;}#sk-container-id-4 div.sk-estimator:hover {background-color: #d4ebff;}#sk-container-id-4 div.sk-parallel-item::after {content: \"\";width: 100%;border-bottom: 1px solid gray;flex-grow: 1;}#sk-container-id-4 div.sk-label:hover label.sk-toggleable__label {background-color: #d4ebff;}#sk-container-id-4 div.sk-serial::before {content: \"\";position: absolute;border-left: 1px solid gray;box-sizing: border-box;top: 0;bottom: 0;left: 50%;z-index: 0;}#sk-container-id-4 div.sk-serial {display: flex;flex-direction: column;align-items: center;background-color: white;padding-right: 0.2em;padding-left: 0.2em;position: relative;}#sk-container-id-4 div.sk-item {position: relative;z-index: 1;}#sk-container-id-4 div.sk-parallel {display: flex;align-items: stretch;justify-content: center;background-color: white;position: relative;}#sk-container-id-4 div.sk-item::before, #sk-container-id-4 div.sk-parallel-item::before {content: \"\";position: absolute;border-left: 1px solid gray;box-sizing: border-box;top: 0;bottom: 0;left: 50%;z-index: -1;}#sk-container-id-4 div.sk-parallel-item {display: flex;flex-direction: column;z-index: 1;position: relative;background-color: white;}#sk-container-id-4 div.sk-parallel-item:first-child::after {align-self: flex-end;width: 50%;}#sk-container-id-4 div.sk-parallel-item:last-child::after {align-self: flex-start;width: 50%;}#sk-container-id-4 div.sk-parallel-item:only-child::after {width: 0;}#sk-container-id-4 div.sk-dashed-wrapped {border: 1px dashed gray;margin: 0 0.4em 0.5em 0.4em;box-sizing: border-box;padding-bottom: 0.4em;background-color: white;}#sk-container-id-4 div.sk-label label {font-family: monospace;font-weight: bold;display: inline-block;line-height: 1.2em;}#sk-container-id-4 div.sk-label-container {text-align: center;}#sk-container-id-4 div.sk-container {/* jupyter's `normalize.less` sets `[hidden] { display: none; }` but bootstrap.min.css set `[hidden] { display: none !important; }` so we also need the `!important` here to be able to override the default hidden behavior on the sphinx rendered scikit-learn.org. See: https://github.com/scikit-learn/scikit-learn/issues/21755 */display: inline-block !important;position: relative;}#sk-container-id-4 div.sk-text-repr-fallback {display: none;}</style><div id=\"sk-container-id-4\" class=\"sk-top-container\"><div class=\"sk-text-repr-fallback\"><pre>RandomForestRegressor(max_depth=5)</pre><b>In a Jupyter environment, please rerun this cell to show the HTML representation or trust the notebook. <br />On GitHub, the HTML representation is unable to render, please try loading this page with nbviewer.org.</b></div><div class=\"sk-container\" hidden><div class=\"sk-item\"><div class=\"sk-estimator sk-toggleable\"><input class=\"sk-toggleable__control sk-hidden--visually\" id=\"sk-estimator-id-4\" type=\"checkbox\" checked><label for=\"sk-estimator-id-4\" class=\"sk-toggleable__label sk-toggleable__label-arrow\">RandomForestRegressor</label><div class=\"sk-toggleable__content\"><pre>RandomForestRegressor(max_depth=5)</pre></div></div></div></div></div>"
      ],
      "text/plain": [
       "RandomForestRegressor(max_depth=5)"
      ]
     },
     "execution_count": 34,
     "metadata": {},
     "output_type": "execute_result"
    }
   ],
   "source": [
    "# 선언하기\n",
    "model = RandomForestRegressor(max_depth=5)\n",
    "model.fit(x_train,y_train)"
   ]
  },
  {
   "cell_type": "code",
   "execution_count": 35,
   "metadata": {
    "id": "JmDH4a0kJseJ"
   },
   "outputs": [
    {
     "name": "stdout",
     "output_type": "stream",
     "text": [
      "MAE: 4.596703953269185\n",
      "R2-Score: 0.031959272314441955\n",
      "MAPE: 0.11218637937981174\n"
     ]
    }
   ],
   "source": [
    "y_pred = model.predict(x_test)\n",
    "# 평가하기\n",
    "print('MAE:', mean_absolute_error(y_test, y_pred))\n",
    "print('R2-Score:', r2_score(y_test, y_pred))\n",
    "print('MAPE:' , mean_absolute_percentage_error(y_test,y_pred))"
   ]
  },
  {
   "cell_type": "markdown",
   "metadata": {
    "id": "JBXKlQu5P2yM"
   },
   "source": [
    "### (2) 딥러닝"
   ]
  },
  {
   "cell_type": "code",
   "execution_count": 36,
   "metadata": {
    "tags": []
   },
   "outputs": [],
   "source": [
    "import tensorflow as tf\n",
    "import pandas as pd"
   ]
  },
  {
   "cell_type": "code",
   "execution_count": 37,
   "metadata": {
    "tags": []
   },
   "outputs": [
    {
     "data": {
      "text/html": [
       "<div>\n",
       "<style scoped>\n",
       "    .dataframe tbody tr th:only-of-type {\n",
       "        vertical-align: middle;\n",
       "    }\n",
       "\n",
       "    .dataframe tbody tr th {\n",
       "        vertical-align: top;\n",
       "    }\n",
       "\n",
       "    .dataframe thead th {\n",
       "        text-align: right;\n",
       "    }\n",
       "</style>\n",
       "<table border=\"1\" class=\"dataframe\">\n",
       "  <thead>\n",
       "    <tr style=\"text-align: right;\">\n",
       "      <th></th>\n",
       "      <th>Date</th>\n",
       "      <th>car_cnt</th>\n",
       "      <th>request_cnt</th>\n",
       "      <th>ride_cnt</th>\n",
       "      <th>waiting_time</th>\n",
       "      <th>fare</th>\n",
       "      <th>distance</th>\n",
       "      <th>weekday</th>\n",
       "      <th>month</th>\n",
       "      <th>week</th>\n",
       "      <th>...</th>\n",
       "      <th>temp_max</th>\n",
       "      <th>temp_min</th>\n",
       "      <th>rain(mm)</th>\n",
       "      <th>humidity_max(%)</th>\n",
       "      <th>humidity_min(%)</th>\n",
       "      <th>sunshine(MJ/m2)</th>\n",
       "      <th>season</th>\n",
       "      <th>holiday</th>\n",
       "      <th>waiting_time(mean)</th>\n",
       "      <th>ride_rate</th>\n",
       "    </tr>\n",
       "  </thead>\n",
       "  <tbody>\n",
       "    <tr>\n",
       "      <th>0</th>\n",
       "      <td>2015-01-01</td>\n",
       "      <td>213</td>\n",
       "      <td>1023</td>\n",
       "      <td>924</td>\n",
       "      <td>23.2</td>\n",
       "      <td>2427</td>\n",
       "      <td>10764</td>\n",
       "      <td>3</td>\n",
       "      <td>1월</td>\n",
       "      <td>1</td>\n",
       "      <td>...</td>\n",
       "      <td>-2.0</td>\n",
       "      <td>-8.9</td>\n",
       "      <td>0.0</td>\n",
       "      <td>63.0</td>\n",
       "      <td>28.0</td>\n",
       "      <td>9.07</td>\n",
       "      <td>겨울</td>\n",
       "      <td>1</td>\n",
       "      <td>NaN</td>\n",
       "      <td>0.903226</td>\n",
       "    </tr>\n",
       "    <tr>\n",
       "      <th>1</th>\n",
       "      <td>2015-01-02</td>\n",
       "      <td>420</td>\n",
       "      <td>3158</td>\n",
       "      <td>2839</td>\n",
       "      <td>17.2</td>\n",
       "      <td>2216</td>\n",
       "      <td>8611</td>\n",
       "      <td>4</td>\n",
       "      <td>1월</td>\n",
       "      <td>1</td>\n",
       "      <td>...</td>\n",
       "      <td>2.4</td>\n",
       "      <td>-9.2</td>\n",
       "      <td>0.0</td>\n",
       "      <td>73.0</td>\n",
       "      <td>37.0</td>\n",
       "      <td>8.66</td>\n",
       "      <td>겨울</td>\n",
       "      <td>0</td>\n",
       "      <td>NaN</td>\n",
       "      <td>0.898987</td>\n",
       "    </tr>\n",
       "    <tr>\n",
       "      <th>2</th>\n",
       "      <td>2015-01-03</td>\n",
       "      <td>209</td>\n",
       "      <td>1648</td>\n",
       "      <td>1514</td>\n",
       "      <td>26.2</td>\n",
       "      <td>2377</td>\n",
       "      <td>10198</td>\n",
       "      <td>5</td>\n",
       "      <td>1월</td>\n",
       "      <td>1</td>\n",
       "      <td>...</td>\n",
       "      <td>8.2</td>\n",
       "      <td>0.2</td>\n",
       "      <td>0.0</td>\n",
       "      <td>89.0</td>\n",
       "      <td>58.0</td>\n",
       "      <td>5.32</td>\n",
       "      <td>겨울</td>\n",
       "      <td>0</td>\n",
       "      <td>NaN</td>\n",
       "      <td>0.918689</td>\n",
       "    </tr>\n",
       "    <tr>\n",
       "      <th>3</th>\n",
       "      <td>2015-01-04</td>\n",
       "      <td>196</td>\n",
       "      <td>1646</td>\n",
       "      <td>1526</td>\n",
       "      <td>24.5</td>\n",
       "      <td>2431</td>\n",
       "      <td>10955</td>\n",
       "      <td>6</td>\n",
       "      <td>1월</td>\n",
       "      <td>1</td>\n",
       "      <td>...</td>\n",
       "      <td>7.9</td>\n",
       "      <td>-0.9</td>\n",
       "      <td>0.0</td>\n",
       "      <td>95.0</td>\n",
       "      <td>52.0</td>\n",
       "      <td>6.48</td>\n",
       "      <td>겨울</td>\n",
       "      <td>0</td>\n",
       "      <td>NaN</td>\n",
       "      <td>0.927096</td>\n",
       "    </tr>\n",
       "    <tr>\n",
       "      <th>4</th>\n",
       "      <td>2015-01-05</td>\n",
       "      <td>421</td>\n",
       "      <td>4250</td>\n",
       "      <td>3730</td>\n",
       "      <td>26.2</td>\n",
       "      <td>2214</td>\n",
       "      <td>8663</td>\n",
       "      <td>0</td>\n",
       "      <td>1월</td>\n",
       "      <td>2</td>\n",
       "      <td>...</td>\n",
       "      <td>4.1</td>\n",
       "      <td>-7.4</td>\n",
       "      <td>3.4</td>\n",
       "      <td>98.0</td>\n",
       "      <td>29.0</td>\n",
       "      <td>10.47</td>\n",
       "      <td>겨울</td>\n",
       "      <td>0</td>\n",
       "      <td>NaN</td>\n",
       "      <td>0.877647</td>\n",
       "    </tr>\n",
       "    <tr>\n",
       "      <th>...</th>\n",
       "      <td>...</td>\n",
       "      <td>...</td>\n",
       "      <td>...</td>\n",
       "      <td>...</td>\n",
       "      <td>...</td>\n",
       "      <td>...</td>\n",
       "      <td>...</td>\n",
       "      <td>...</td>\n",
       "      <td>...</td>\n",
       "      <td>...</td>\n",
       "      <td>...</td>\n",
       "      <td>...</td>\n",
       "      <td>...</td>\n",
       "      <td>...</td>\n",
       "      <td>...</td>\n",
       "      <td>...</td>\n",
       "      <td>...</td>\n",
       "      <td>...</td>\n",
       "      <td>...</td>\n",
       "      <td>...</td>\n",
       "      <td>...</td>\n",
       "    </tr>\n",
       "    <tr>\n",
       "      <th>2917</th>\n",
       "      <td>2022-12-26</td>\n",
       "      <td>603</td>\n",
       "      <td>5555</td>\n",
       "      <td>4605</td>\n",
       "      <td>39.2</td>\n",
       "      <td>2163</td>\n",
       "      <td>7889</td>\n",
       "      <td>0</td>\n",
       "      <td>12월</td>\n",
       "      <td>52</td>\n",
       "      <td>...</td>\n",
       "      <td>3.0</td>\n",
       "      <td>-7.3</td>\n",
       "      <td>0.0</td>\n",
       "      <td>86.0</td>\n",
       "      <td>51.0</td>\n",
       "      <td>10.25</td>\n",
       "      <td>겨울</td>\n",
       "      <td>0</td>\n",
       "      <td>43.485714</td>\n",
       "      <td>0.828983</td>\n",
       "    </tr>\n",
       "    <tr>\n",
       "      <th>2918</th>\n",
       "      <td>2022-12-27</td>\n",
       "      <td>669</td>\n",
       "      <td>5635</td>\n",
       "      <td>4654</td>\n",
       "      <td>44.4</td>\n",
       "      <td>2198</td>\n",
       "      <td>8178</td>\n",
       "      <td>1</td>\n",
       "      <td>12월</td>\n",
       "      <td>52</td>\n",
       "      <td>...</td>\n",
       "      <td>-0.3</td>\n",
       "      <td>-5.4</td>\n",
       "      <td>0.1</td>\n",
       "      <td>92.0</td>\n",
       "      <td>40.0</td>\n",
       "      <td>10.86</td>\n",
       "      <td>겨울</td>\n",
       "      <td>0</td>\n",
       "      <td>42.771429</td>\n",
       "      <td>0.825909</td>\n",
       "    </tr>\n",
       "    <tr>\n",
       "      <th>2919</th>\n",
       "      <td>2022-12-28</td>\n",
       "      <td>607</td>\n",
       "      <td>5654</td>\n",
       "      <td>4648</td>\n",
       "      <td>44.8</td>\n",
       "      <td>2161</td>\n",
       "      <td>7882</td>\n",
       "      <td>2</td>\n",
       "      <td>12월</td>\n",
       "      <td>52</td>\n",
       "      <td>...</td>\n",
       "      <td>1.7</td>\n",
       "      <td>-7.8</td>\n",
       "      <td>0.0</td>\n",
       "      <td>71.0</td>\n",
       "      <td>34.0</td>\n",
       "      <td>10.88</td>\n",
       "      <td>겨울</td>\n",
       "      <td>0</td>\n",
       "      <td>43.514286</td>\n",
       "      <td>0.822073</td>\n",
       "    </tr>\n",
       "    <tr>\n",
       "      <th>2920</th>\n",
       "      <td>2022-12-29</td>\n",
       "      <td>581</td>\n",
       "      <td>5250</td>\n",
       "      <td>4247</td>\n",
       "      <td>52.5</td>\n",
       "      <td>2229</td>\n",
       "      <td>8433</td>\n",
       "      <td>3</td>\n",
       "      <td>12월</td>\n",
       "      <td>52</td>\n",
       "      <td>...</td>\n",
       "      <td>2.1</td>\n",
       "      <td>-4.0</td>\n",
       "      <td>0.0</td>\n",
       "      <td>87.0</td>\n",
       "      <td>38.0</td>\n",
       "      <td>10.84</td>\n",
       "      <td>겨울</td>\n",
       "      <td>0</td>\n",
       "      <td>42.957143</td>\n",
       "      <td>0.808952</td>\n",
       "    </tr>\n",
       "    <tr>\n",
       "      <th>2921</th>\n",
       "      <td>2022-12-30</td>\n",
       "      <td>600</td>\n",
       "      <td>5293</td>\n",
       "      <td>4200</td>\n",
       "      <td>38.3</td>\n",
       "      <td>2183</td>\n",
       "      <td>8155</td>\n",
       "      <td>4</td>\n",
       "      <td>12월</td>\n",
       "      <td>52</td>\n",
       "      <td>...</td>\n",
       "      <td>-4.4</td>\n",
       "      <td>-4.4</td>\n",
       "      <td>0.0</td>\n",
       "      <td>66.0</td>\n",
       "      <td>66.0</td>\n",
       "      <td>0.00</td>\n",
       "      <td>겨울</td>\n",
       "      <td>0</td>\n",
       "      <td>41.042857</td>\n",
       "      <td>0.793501</td>\n",
       "    </tr>\n",
       "  </tbody>\n",
       "</table>\n",
       "<p>2922 rows × 21 columns</p>\n",
       "</div>"
      ],
      "text/plain": [
       "           Date  car_cnt  request_cnt  ride_cnt  waiting_time  fare  distance  \\\n",
       "0    2015-01-01      213         1023       924          23.2  2427     10764   \n",
       "1    2015-01-02      420         3158      2839          17.2  2216      8611   \n",
       "2    2015-01-03      209         1648      1514          26.2  2377     10198   \n",
       "3    2015-01-04      196         1646      1526          24.5  2431     10955   \n",
       "4    2015-01-05      421         4250      3730          26.2  2214      8663   \n",
       "...         ...      ...          ...       ...           ...   ...       ...   \n",
       "2917 2022-12-26      603         5555      4605          39.2  2163      7889   \n",
       "2918 2022-12-27      669         5635      4654          44.4  2198      8178   \n",
       "2919 2022-12-28      607         5654      4648          44.8  2161      7882   \n",
       "2920 2022-12-29      581         5250      4247          52.5  2229      8433   \n",
       "2921 2022-12-30      600         5293      4200          38.3  2183      8155   \n",
       "\n",
       "      weekday month  week  ...  temp_max  temp_min  rain(mm)  humidity_max(%)  \\\n",
       "0           3    1월     1  ...      -2.0      -8.9       0.0             63.0   \n",
       "1           4    1월     1  ...       2.4      -9.2       0.0             73.0   \n",
       "2           5    1월     1  ...       8.2       0.2       0.0             89.0   \n",
       "3           6    1월     1  ...       7.9      -0.9       0.0             95.0   \n",
       "4           0    1월     2  ...       4.1      -7.4       3.4             98.0   \n",
       "...       ...   ...   ...  ...       ...       ...       ...              ...   \n",
       "2917        0   12월    52  ...       3.0      -7.3       0.0             86.0   \n",
       "2918        1   12월    52  ...      -0.3      -5.4       0.1             92.0   \n",
       "2919        2   12월    52  ...       1.7      -7.8       0.0             71.0   \n",
       "2920        3   12월    52  ...       2.1      -4.0       0.0             87.0   \n",
       "2921        4   12월    52  ...      -4.4      -4.4       0.0             66.0   \n",
       "\n",
       "      humidity_min(%)  sunshine(MJ/m2)  season holiday waiting_time(mean)  \\\n",
       "0                28.0             9.07      겨울       1                NaN   \n",
       "1                37.0             8.66      겨울       0                NaN   \n",
       "2                58.0             5.32      겨울       0                NaN   \n",
       "3                52.0             6.48      겨울       0                NaN   \n",
       "4                29.0            10.47      겨울       0                NaN   \n",
       "...               ...              ...     ...     ...                ...   \n",
       "2917             51.0            10.25      겨울       0          43.485714   \n",
       "2918             40.0            10.86      겨울       0          42.771429   \n",
       "2919             34.0            10.88      겨울       0          43.514286   \n",
       "2920             38.0            10.84      겨울       0          42.957143   \n",
       "2921             66.0             0.00      겨울       0          41.042857   \n",
       "\n",
       "      ride_rate  \n",
       "0      0.903226  \n",
       "1      0.898987  \n",
       "2      0.918689  \n",
       "3      0.927096  \n",
       "4      0.877647  \n",
       "...         ...  \n",
       "2917   0.828983  \n",
       "2918   0.825909  \n",
       "2919   0.822073  \n",
       "2920   0.808952  \n",
       "2921   0.793501  \n",
       "\n",
       "[2922 rows x 21 columns]"
      ]
     },
     "execution_count": 37,
     "metadata": {},
     "output_type": "execute_result"
    }
   ],
   "source": [
    "file_path = 'data1.pkl'\n",
    "\n",
    "# 데이터프레임 불러오기\n",
    "file1= joblib.load(file_path)\n",
    "\n",
    "# 불러온 데이터프레임 확인\n",
    "file1\n",
    "\n"
   ]
  },
  {
   "cell_type": "code",
   "execution_count": 38,
   "metadata": {
    "tags": []
   },
   "outputs": [
    {
     "name": "stdout",
     "output_type": "stream",
     "text": [
      "x_train shape: (2824, 36)\n",
      "x_test shape: (91, 36)\n"
     ]
    }
   ],
   "source": [
    "print('x_train shape:', x_train.shape)\n",
    "print('x_test shape:', x_test.shape)"
   ]
  },
  {
   "cell_type": "code",
   "execution_count": 39,
   "metadata": {
    "id": "L7R6_Oo-tQ7D"
   },
   "outputs": [
    {
     "name": "stdout",
     "output_type": "stream",
     "text": [
      "Epoch 1/30\n",
      "89/89 [==============================] - 1s 2ms/step - loss: 1763.2893 - mae: 39.5030\n",
      "Epoch 2/30\n",
      "89/89 [==============================] - 0s 1ms/step - loss: 1689.1713 - mae: 38.5672\n",
      "Epoch 3/30\n",
      "89/89 [==============================] - 0s 1ms/step - loss: 1628.1805 - mae: 37.7726\n",
      "Epoch 4/30\n",
      "89/89 [==============================] - 0s 1ms/step - loss: 1568.3091 - mae: 36.9713\n",
      "Epoch 5/30\n",
      "89/89 [==============================] - 0s 1ms/step - loss: 1514.5834 - mae: 36.2384\n",
      "Epoch 6/30\n",
      "89/89 [==============================] - 0s 1ms/step - loss: 1460.6932 - mae: 35.4873\n",
      "Epoch 7/30\n",
      "89/89 [==============================] - 0s 1ms/step - loss: 1398.3499 - mae: 34.5972\n",
      "Epoch 8/30\n",
      "89/89 [==============================] - 0s 1ms/step - loss: 1344.6907 - mae: 33.8061\n",
      "Epoch 9/30\n",
      "89/89 [==============================] - 0s 2ms/step - loss: 1293.3993 - mae: 33.0389\n",
      "Epoch 10/30\n",
      "89/89 [==============================] - 0s 2ms/step - loss: 1243.8765 - mae: 32.2749\n",
      "Epoch 11/30\n",
      "89/89 [==============================] - 0s 2ms/step - loss: 1195.3337 - mae: 31.5138\n",
      "Epoch 12/30\n",
      "89/89 [==============================] - 0s 1ms/step - loss: 1147.1165 - mae: 30.7362\n",
      "Epoch 13/30\n",
      "89/89 [==============================] - 0s 2ms/step - loss: 1080.5791 - mae: 29.6540\n",
      "Epoch 14/30\n",
      "89/89 [==============================] - 0s 1ms/step - loss: 1032.5905 - mae: 28.8382\n",
      "Epoch 15/30\n",
      "89/89 [==============================] - 0s 2ms/step - loss: 986.5770 - mae: 28.0332\n",
      "Epoch 16/30\n",
      "89/89 [==============================] - 0s 1ms/step - loss: 942.2261 - mae: 27.2267\n",
      "Epoch 17/30\n",
      "89/89 [==============================] - 0s 1ms/step - loss: 898.6106 - mae: 26.4206\n",
      "Epoch 18/30\n",
      "89/89 [==============================] - 0s 1ms/step - loss: 856.6346 - mae: 25.6165\n",
      "Epoch 19/30\n",
      "89/89 [==============================] - 0s 2ms/step - loss: 815.8625 - mae: 24.8125\n",
      "Epoch 20/30\n",
      "89/89 [==============================] - 0s 1ms/step - loss: 776.3192 - mae: 24.0090\n",
      "Epoch 21/30\n",
      "89/89 [==============================] - 0s 1ms/step - loss: 738.3559 - mae: 23.2036\n",
      "Epoch 22/30\n",
      "89/89 [==============================] - 0s 1ms/step - loss: 701.4896 - mae: 22.4006\n",
      "Epoch 23/30\n",
      "89/89 [==============================] - 0s 1ms/step - loss: 666.0729 - mae: 21.6008\n",
      "Epoch 24/30\n",
      "89/89 [==============================] - 0s 1ms/step - loss: 632.0967 - mae: 20.8111\n",
      "Epoch 25/30\n",
      "89/89 [==============================] - 0s 1ms/step - loss: 599.1813 - mae: 20.0352\n",
      "Epoch 26/30\n",
      "89/89 [==============================] - 0s 2ms/step - loss: 567.6094 - mae: 19.2854\n",
      "Epoch 27/30\n",
      "89/89 [==============================] - 0s 2ms/step - loss: 537.3825 - mae: 18.5699\n",
      "Epoch 28/30\n",
      "89/89 [==============================] - 0s 1ms/step - loss: 508.6663 - mae: 17.8800\n",
      "Epoch 29/30\n",
      "89/89 [==============================] - 0s 1ms/step - loss: 481.0378 - mae: 17.2224\n",
      "Epoch 30/30\n",
      "89/89 [==============================] - 0s 1ms/step - loss: 455.0250 - mae: 16.6028\n",
      "89/89 [==============================] - 0s 1ms/step - loss: 442.0712 - mae: 16.3001\n",
      "3/3 [==============================] - 0s 2ms/step - loss: 394.3456 - mae: 19.0153\n",
      "3/3 [==============================] - 0s 5ms/step\n",
      "Training Loss and MAE: [442.0711669921875, 16.300050735473633]\n",
      "Testing Loss and MAE: [394.34564208984375, 19.015283584594727]\n",
      "MAE :  19.015285014058207\n",
      "MAPE :  0.7686187636571831\n",
      "R2 :  -429.563220827717\n"
     ]
    }
   ],
   "source": [
    "import numpy as np\n",
    "from sklearn.metrics import mean_absolute_error, mean_absolute_percentage_error, r2_score\n",
    "import tensorflow as tf\n",
    "from tensorflow.keras.layers import Dense, LSTM, Input\n",
    "from tensorflow.keras.models import Model\n",
    "\n",
    "# 데이터를 numpy 배열로 변환\n",
    "x_train = np.array(x_train)\n",
    "x_test = np.array(x_test)\n",
    "y_train = np.array(y_train)\n",
    "y_test = np.array(y_test)\n",
    "\n",
    "# 데이터를 reshape\n",
    "X_train = x_train.reshape(-1, 1, 36)\n",
    "X_test = x_test.reshape(-1, 1, 36)\n",
    "\n",
    "# 모델 입력 레이어 정의\n",
    "input_layer = Input(shape=(1, 36))\n",
    "\n",
    "# LSTM 레이어 추가\n",
    "lstm_layer = LSTM(32)(input_layer)\n",
    "\n",
    "# 출력 레이어 추가\n",
    "output_layer = Dense(1)(lstm_layer)\n",
    "\n",
    "# 모델 정의\n",
    "model1 = Model(inputs=input_layer, outputs=output_layer)\n",
    "model1.compile(optimizer='rmsprop', loss='mse', metrics=['mae'])\n",
    "\n",
    "# 모델 훈련 (X_train, y_train 사용)\n",
    "model1.fit(X_train, y_train, epochs=30, batch_size=32)\n",
    "\n",
    "# 모델 평가 (X_train, y_train 사용)\n",
    "loss_acc = model1.evaluate(X_train, y_train)\n",
    "loss_test = model1.evaluate(X_test, y_test)\n",
    "\n",
    "# 모델 예측 (X_test 사용)\n",
    "pred1 = model1.predict(X_test)\n",
    "\n",
    "# 평가 및 예측 결과 출력\n",
    "print(\"Training Loss and MAE:\", loss_acc)\n",
    "print(\"Testing Loss and MAE:\", loss_test)\n",
    "print('MAE : ', mean_absolute_error(pred1, y_test))\n",
    "print('MAPE : ', mean_absolute_percentage_error(pred1, y_test))\n",
    "print('R2 : ', r2_score(pred1, y_test))\n"
   ]
  },
  {
   "cell_type": "code",
   "execution_count": null,
   "metadata": {
    "id": "9E6wET5xtQ7E"
   },
   "outputs": [],
   "source": []
  },
  {
   "cell_type": "markdown",
   "metadata": {
    "id": "kd1fRLnDaaFY"
   },
   "source": [
    "#### 1) 모델1"
   ]
  },
  {
   "cell_type": "code",
   "execution_count": null,
   "metadata": {
    "id": "HMOjVWKvtTLb"
   },
   "outputs": [],
   "source": [
    "!pip install tensorflow\n"
   ]
  },
  {
   "cell_type": "code",
   "execution_count": null,
   "metadata": {
    "id": "zSNzQLVVtTLc"
   },
   "outputs": [],
   "source": []
  },
  {
   "cell_type": "code",
   "execution_count": null,
   "metadata": {
    "id": "LB-zD-54tToj"
   },
   "outputs": [],
   "source": []
  },
  {
   "cell_type": "code",
   "execution_count": null,
   "metadata": {
    "id": "ePyVFIC3tTlq"
   },
   "outputs": [],
   "source": []
  },
  {
   "cell_type": "markdown",
   "metadata": {
    "id": "pGilyDYJbssI"
   },
   "source": [
    "#### 2) 모델2"
   ]
  },
  {
   "cell_type": "code",
   "execution_count": 40,
   "metadata": {
    "id": "_6cYoyTetV5Y"
   },
   "outputs": [
    {
     "name": "stdout",
     "output_type": "stream",
     "text": [
      "Epoch 1/40\n",
      "89/89 [==============================] - 1s 2ms/step - loss: 1772.6636 - mae: 39.6228\n",
      "Epoch 2/40\n",
      "89/89 [==============================] - 0s 2ms/step - loss: 1730.0607 - mae: 39.0810\n",
      "Epoch 3/40\n",
      "89/89 [==============================] - 0s 1ms/step - loss: 1698.2028 - mae: 38.6730\n",
      "Epoch 4/40\n",
      "89/89 [==============================] - 0s 2ms/step - loss: 1659.9634 - mae: 38.1696\n",
      "Epoch 5/40\n",
      "89/89 [==============================] - 0s 2ms/step - loss: 1625.2343 - mae: 37.7074\n",
      "Epoch 6/40\n",
      "89/89 [==============================] - 0s 1ms/step - loss: 1593.2241 - mae: 37.2813\n",
      "Epoch 7/40\n",
      "89/89 [==============================] - 0s 1ms/step - loss: 1561.2897 - mae: 36.8510\n",
      "Epoch 8/40\n",
      "89/89 [==============================] - 0s 1ms/step - loss: 1530.1937 - mae: 36.4242\n",
      "Epoch 9/40\n",
      "89/89 [==============================] - 0s 2ms/step - loss: 1499.2098 - mae: 35.9981\n",
      "Epoch 10/40\n",
      "89/89 [==============================] - 0s 2ms/step - loss: 1468.7925 - mae: 35.5716\n",
      "Epoch 11/40\n",
      "89/89 [==============================] - 0s 2ms/step - loss: 1438.6550 - mae: 35.1455\n",
      "Epoch 12/40\n",
      "89/89 [==============================] - 0s 2ms/step - loss: 1409.0051 - mae: 34.7193\n",
      "Epoch 13/40\n",
      "89/89 [==============================] - 0s 2ms/step - loss: 1379.4883 - mae: 34.2934\n",
      "Epoch 14/40\n",
      "89/89 [==============================] - 0s 2ms/step - loss: 1350.5170 - mae: 33.8673\n",
      "Epoch 15/40\n",
      "89/89 [==============================] - 0s 2ms/step - loss: 1321.6382 - mae: 33.4417\n",
      "Epoch 16/40\n",
      "89/89 [==============================] - 0s 2ms/step - loss: 1293.4722 - mae: 33.0154\n",
      "Epoch 17/40\n",
      "89/89 [==============================] - 0s 2ms/step - loss: 1265.4513 - mae: 32.5895\n",
      "Epoch 18/40\n",
      "89/89 [==============================] - 0s 2ms/step - loss: 1237.9629 - mae: 32.1635\n",
      "Epoch 19/40\n",
      "89/89 [==============================] - 0s 2ms/step - loss: 1210.5242 - mae: 31.7378\n",
      "Epoch 20/40\n",
      "89/89 [==============================] - 0s 2ms/step - loss: 1183.7745 - mae: 31.3114\n",
      "Epoch 21/40\n",
      "89/89 [==============================] - 0s 2ms/step - loss: 1157.3848 - mae: 30.8856\n",
      "Epoch 22/40\n",
      "89/89 [==============================] - 0s 2ms/step - loss: 1131.2445 - mae: 30.4605\n",
      "Epoch 23/40\n",
      "89/89 [==============================] - 0s 2ms/step - loss: 1105.5942 - mae: 30.0347\n",
      "Epoch 24/40\n",
      "89/89 [==============================] - 0s 2ms/step - loss: 1080.1016 - mae: 29.6090\n",
      "Epoch 25/40\n",
      "89/89 [==============================] - 0s 2ms/step - loss: 1055.0598 - mae: 29.1831\n",
      "Epoch 26/40\n",
      "89/89 [==============================] - 0s 1ms/step - loss: 1030.3793 - mae: 28.7580\n",
      "Epoch 27/40\n",
      "89/89 [==============================] - 0s 2ms/step - loss: 1006.1069 - mae: 28.3326\n",
      "Epoch 28/40\n",
      "89/89 [==============================] - 0s 1ms/step - loss: 982.2754 - mae: 27.9069\n",
      "Epoch 29/40\n",
      "89/89 [==============================] - 0s 1ms/step - loss: 958.6731 - mae: 27.4817\n",
      "Epoch 30/40\n",
      "89/89 [==============================] - 0s 2ms/step - loss: 935.5587 - mae: 27.0569\n",
      "Epoch 31/40\n",
      "89/89 [==============================] - 0s 1ms/step - loss: 912.5829 - mae: 26.6318\n",
      "Epoch 32/40\n",
      "89/89 [==============================] - 0s 1ms/step - loss: 890.3089 - mae: 26.2069\n",
      "Epoch 33/40\n",
      "89/89 [==============================] - 0s 1ms/step - loss: 868.0615 - mae: 25.7820\n",
      "Epoch 34/40\n",
      "89/89 [==============================] - 0s 2ms/step - loss: 846.4782 - mae: 25.3567\n",
      "Epoch 35/40\n",
      "89/89 [==============================] - 0s 1ms/step - loss: 825.1183 - mae: 24.9324\n",
      "Epoch 36/40\n",
      "89/89 [==============================] - 0s 1ms/step - loss: 803.9962 - mae: 24.5077\n",
      "Epoch 37/40\n",
      "89/89 [==============================] - 0s 1ms/step - loss: 783.3866 - mae: 24.0827\n",
      "Epoch 38/40\n",
      "89/89 [==============================] - 0s 1ms/step - loss: 763.1604 - mae: 23.6581\n",
      "Epoch 39/40\n",
      "89/89 [==============================] - 0s 2ms/step - loss: 743.2685 - mae: 23.2337\n",
      "Epoch 40/40\n",
      "89/89 [==============================] - 0s 2ms/step - loss: 723.6749 - mae: 22.8094\n",
      "89/89 [==============================] - 0s 1ms/step - loss: 713.8678 - mae: 22.5934\n",
      "3/3 [==============================] - 0s 2ms/step - loss: 716.4095 - mae: 26.0728\n",
      "3/3 [==============================] - 0s 3ms/step\n",
      "Training Loss and MAE: [713.8677978515625, 22.593420028686523]\n",
      "Testing Loss and MAE: [716.4094848632812, 26.072797775268555]\n",
      "MAE :  26.072796417068655\n",
      "MAPE :  1.478016973071416\n",
      "R2 :  -196925127440607.06\n"
     ]
    }
   ],
   "source": [
    "import numpy as np\n",
    "from sklearn.metrics import mean_absolute_error, mean_absolute_percentage_error, r2_score\n",
    "import tensorflow as tf\n",
    "from tensorflow.keras.layers import Dense, LSTM, Input\n",
    "from tensorflow.keras.models import Model\n",
    "\n",
    "# 데이터를 numpy 배열로 변환\n",
    "x_train = np.array(x_train)\n",
    "x_test = np.array(x_test)\n",
    "y_train = np.array(y_train)\n",
    "y_test = np.array(y_test)\n",
    "\n",
    "# 데이터를 reshape\n",
    "X_train = x_train.reshape(-1, 1, 36)\n",
    "X_test = x_test.reshape(-1, 1, 36)\n",
    "\n",
    "# 모델 입력 레이어 정의\n",
    "input_layer = Input(shape=(1, 36))\n",
    "\n",
    "# LSTM 레이어 추가\n",
    "lstm_layer = LSTM(32)(input_layer)\n",
    "lstm_layer = LSTM(32)(input_layer)\n",
    "\n",
    "# 출력 레이어 추가\n",
    "output_layer = Dense(1)(lstm_layer)\n",
    "\n",
    "# 모델 정의\n",
    "model1 = Model(inputs=input_layer, outputs=output_layer)\n",
    "model1.compile(optimizer='rmsprop', loss='mse', metrics=['mae'])\n",
    "\n",
    "# 모델 훈련 (X_train, y_train 사용)\n",
    "model1.fit(X_train, y_train, epochs=40, batch_size=32)\n",
    "\n",
    "# 모델 평가 (X_train, y_train 사용)\n",
    "loss_acc = model1.evaluate(X_train, y_train)\n",
    "loss_test = model1.evaluate(X_test, y_test)\n",
    "\n",
    "# 모델 예측 (X_test 사용)\n",
    "pred1 = model1.predict(X_test)\n",
    "\n",
    "# 평가 및 예측 결과 출력\n",
    "print(\"Training Loss and MAE:\", loss_acc)\n",
    "print(\"Testing Loss and MAE:\", loss_test)\n",
    "print('MAE : ', mean_absolute_error(pred1, y_test))\n",
    "print('MAPE : ', mean_absolute_percentage_error(pred1, y_test))\n",
    "print('R2 : ', r2_score(pred1, y_test))\n"
   ]
  },
  {
   "cell_type": "code",
   "execution_count": 42,
   "metadata": {
    "id": "7sgaOwvntV5Z"
   },
   "outputs": [
    {
     "name": "stdout",
     "output_type": "stream",
     "text": [
      "Epoch 1/40\n",
      "89/89 [==============================] - 0s 2ms/step - loss: 704.4230 - mae: 22.3861 - val_loss: 694.3297 - val_mae: 25.6459\n",
      "Epoch 2/40\n",
      "89/89 [==============================] - 0s 2ms/step - loss: 685.6822 - mae: 21.9638 - val_loss: 672.9279 - val_mae: 25.2252\n",
      "Epoch 3/40\n",
      "89/89 [==============================] - 0s 2ms/step - loss: 667.3312 - mae: 21.5437 - val_loss: 651.7809 - val_mae: 24.8025\n",
      "Epoch 4/40\n",
      "89/89 [==============================] - 0s 2ms/step - loss: 649.1526 - mae: 21.1291 - val_loss: 630.9543 - val_mae: 24.3790\n",
      "Epoch 5/40\n",
      "89/89 [==============================] - 0s 2ms/step - loss: 631.4923 - mae: 20.7213 - val_loss: 610.3059 - val_mae: 23.9518\n",
      "Epoch 6/40\n",
      "89/89 [==============================] - 0s 2ms/step - loss: 614.1938 - mae: 20.3186 - val_loss: 590.3676 - val_mae: 23.5319\n",
      "Epoch 7/40\n",
      "89/89 [==============================] - 0s 2ms/step - loss: 597.2684 - mae: 19.9240 - val_loss: 570.6351 - val_mae: 23.1088\n",
      "Epoch 8/40\n",
      "89/89 [==============================] - 0s 2ms/step - loss: 580.6005 - mae: 19.5361 - val_loss: 551.3071 - val_mae: 22.6867\n",
      "Epoch 9/40\n",
      "89/89 [==============================] - 0s 2ms/step - loss: 564.2816 - mae: 19.1549 - val_loss: 532.0869 - val_mae: 22.2591\n",
      "Epoch 10/40\n",
      "89/89 [==============================] - 0s 2ms/step - loss: 548.4125 - mae: 18.7813 - val_loss: 513.4985 - val_mae: 21.8376\n",
      "Epoch 11/40\n",
      "89/89 [==============================] - 0s 2ms/step - loss: 532.9429 - mae: 18.4216 - val_loss: 495.2670 - val_mae: 21.4161\n",
      "Epoch 12/40\n",
      "89/89 [==============================] - 0s 2ms/step - loss: 517.8177 - mae: 18.0657 - val_loss: 477.3223 - val_mae: 20.9929\n",
      "Epoch 13/40\n",
      "89/89 [==============================] - 0s 2ms/step - loss: 502.9382 - mae: 17.7170 - val_loss: 459.7628 - val_mae: 20.5705\n",
      "Epoch 14/40\n",
      "89/89 [==============================] - 0s 2ms/step - loss: 488.4342 - mae: 17.3829 - val_loss: 442.5864 - val_mae: 20.1486\n",
      "Epoch 15/40\n",
      "89/89 [==============================] - 0s 2ms/step - loss: 474.5078 - mae: 17.0554 - val_loss: 425.8888 - val_mae: 19.7299\n",
      "Epoch 16/40\n",
      "89/89 [==============================] - 0s 2ms/step - loss: 460.7958 - mae: 16.7340 - val_loss: 409.4523 - val_mae: 19.3089\n",
      "Epoch 17/40\n",
      "89/89 [==============================] - 0s 2ms/step - loss: 447.4407 - mae: 16.4232 - val_loss: 393.3241 - val_mae: 18.8866\n",
      "Epoch 18/40\n",
      "89/89 [==============================] - 0s 2ms/step - loss: 434.5041 - mae: 16.1193 - val_loss: 377.5903 - val_mae: 18.4731\n",
      "Epoch 19/40\n",
      "89/89 [==============================] - 0s 2ms/step - loss: 421.8432 - mae: 15.8243 - val_loss: 362.2330 - val_mae: 18.0617\n",
      "Epoch 20/40\n",
      "89/89 [==============================] - 0s 2ms/step - loss: 409.5826 - mae: 15.5333 - val_loss: 347.1776 - val_mae: 17.6488\n",
      "Epoch 21/40\n",
      "89/89 [==============================] - 0s 2ms/step - loss: 397.6085 - mae: 15.2500 - val_loss: 332.5959 - val_mae: 17.2394\n",
      "Epoch 22/40\n",
      "89/89 [==============================] - 0s 2ms/step - loss: 386.2288 - mae: 14.9780 - val_loss: 318.4426 - val_mae: 16.8321\n",
      "Epoch 23/40\n",
      "89/89 [==============================] - 0s 2ms/step - loss: 375.0778 - mae: 14.7130 - val_loss: 304.4591 - val_mae: 16.4196\n",
      "Epoch 24/40\n",
      "89/89 [==============================] - 0s 2ms/step - loss: 364.1617 - mae: 14.4592 - val_loss: 290.9518 - val_mae: 16.0108\n",
      "Epoch 25/40\n",
      "89/89 [==============================] - 0s 2ms/step - loss: 353.8043 - mae: 14.2189 - val_loss: 277.8986 - val_mae: 15.6053\n",
      "Epoch 26/40\n",
      "89/89 [==============================] - 0s 2ms/step - loss: 343.8230 - mae: 13.9869 - val_loss: 265.1730 - val_mae: 15.2079\n",
      "Epoch 27/40\n",
      "89/89 [==============================] - 0s 2ms/step - loss: 334.2074 - mae: 13.7655 - val_loss: 252.7721 - val_mae: 14.8103\n",
      "Epoch 28/40\n",
      "89/89 [==============================] - 0s 2ms/step - loss: 324.9120 - mae: 13.5505 - val_loss: 240.7850 - val_mae: 14.4161\n",
      "Epoch 29/40\n",
      "89/89 [==============================] - 0s 2ms/step - loss: 315.8907 - mae: 13.3432 - val_loss: 229.0212 - val_mae: 14.0351\n",
      "Epoch 30/40\n",
      "89/89 [==============================] - 0s 2ms/step - loss: 307.1755 - mae: 13.1424 - val_loss: 217.7855 - val_mae: 13.6601\n",
      "Epoch 31/40\n",
      "89/89 [==============================] - 0s 2ms/step - loss: 299.0106 - mae: 12.9533 - val_loss: 206.9295 - val_mae: 13.2866\n",
      "Epoch 32/40\n",
      "89/89 [==============================] - 0s 2ms/step - loss: 291.1461 - mae: 12.7708 - val_loss: 196.2966 - val_mae: 12.9129\n",
      "Epoch 33/40\n",
      "89/89 [==============================] - 0s 2ms/step - loss: 283.6333 - mae: 12.6011 - val_loss: 186.1712 - val_mae: 12.5505\n",
      "Epoch 34/40\n",
      "89/89 [==============================] - 0s 2ms/step - loss: 276.5817 - mae: 12.4357 - val_loss: 176.3355 - val_mae: 12.1865\n",
      "Epoch 35/40\n",
      "89/89 [==============================] - 0s 2ms/step - loss: 269.5857 - mae: 12.2766 - val_loss: 166.7276 - val_mae: 11.8272\n",
      "Epoch 36/40\n",
      "89/89 [==============================] - 0s 2ms/step - loss: 263.2081 - mae: 12.1361 - val_loss: 157.6492 - val_mae: 11.4779\n",
      "Epoch 37/40\n",
      "89/89 [==============================] - 0s 2ms/step - loss: 257.1681 - mae: 12.0057 - val_loss: 149.2402 - val_mae: 11.1487\n",
      "Epoch 38/40\n",
      "89/89 [==============================] - 0s 2ms/step - loss: 251.5305 - mae: 11.8869 - val_loss: 140.9677 - val_mae: 10.8126\n",
      "Epoch 39/40\n",
      "89/89 [==============================] - 0s 2ms/step - loss: 246.2114 - mae: 11.7759 - val_loss: 133.0414 - val_mae: 10.4821\n",
      "Epoch 40/40\n",
      "89/89 [==============================] - 0s 2ms/step - loss: 241.0729 - mae: 11.6680 - val_loss: 125.4229 - val_mae: 10.1558\n"
     ]
    },
    {
     "data": {
      "image/png": "[encoded data removed]",
      "text/plain": [
       "<Figure size 1200x600 with 1 Axes>"
      ]
     },
     "metadata": {},
     "output_type": "display_data"
    }
   ],
   "source": [
    "history = model1.fit(X_train, y_train, epochs=40, batch_size=32, validation_data=(X_test, y_test))\n",
    "\n",
    "# 훈련 및 검증 손실 이력 가져오기\n",
    "train_loss = history.history['loss']\n",
    "val_loss = history.history['val_loss']\n",
    "\n",
    "# 에폭에 따른 손실 그래프 그리기\n",
    "plt.figure(figsize=(12, 6))\n",
    "plt.plot(train_loss, label=\"Training Loss\", color=\"blue\")\n",
    "plt.plot(val_loss, label=\"Validation Loss\", color=\"red\")\n",
    "plt.title(\"Training and Validation Loss over Epochs\")\n",
    "plt.xlabel(\"Epochs\")\n",
    "plt.ylabel(\"Loss\")\n",
    "plt.legend()\n",
    "plt.grid(True)\n",
    "plt.show()\n",
    "\n",
    "\n"
   ]
  },
  {
   "cell_type": "code",
   "execution_count": null,
   "metadata": {
    "id": "QlSsmCT5tV5Z"
   },
   "outputs": [],
   "source": []
  },
  {
   "cell_type": "code",
   "execution_count": null,
   "metadata": {
    "id": "sp6Fps2ItV5Z"
   },
   "outputs": [],
   "source": []
  },
  {
   "cell_type": "markdown",
   "metadata": {
    "id": "Ik2DNmAC0Zzd"
   },
   "source": [
    "## 4.모델 비교\n",
    "* **세부요구사항**\n",
    "    * 모델링 단계에서 생성한 모든 모델의 성능을 하나로 모아서 비교합니다.\n",
    "    * 가장 성능이 높은 모델을 선정합니다."
   ]
  },
  {
   "cell_type": "code",
   "execution_count": null,
   "metadata": {
    "id": "qISwMmIK65i1"
   },
   "outputs": [],
   "source": []
  },
  {
   "cell_type": "code",
   "execution_count": null,
   "metadata": {
    "id": "431fKlaTeCWg"
   },
   "outputs": [],
   "source": []
  },
  {
   "cell_type": "code",
   "execution_count": null,
   "metadata": {
    "id": "CRKzHZwbqVkP"
   },
   "outputs": [],
   "source": []
  }
 ],
 "metadata": {
  "colab": {
   "provenance": [
    {
     "file_id": "1rAhFiA-Ujmt8relY5oG0amSLXnIVJ7Fu",
     "timestamp": 1676287923203
    }
   ],
   "toc_visible": true
  },
  "kernelspec": {
   "display_name": "Python 3 (ipykernel)",
   "language": "python",
   "name": "python3"
  },
  "language_info": {
   "codemirror_mode": {
    "name": "ipython",
    "version": 3
   },
   "file_extension": ".py",
   "mimetype": "text/x-python",
   "name": "python",
   "nbconvert_exporter": "python",
   "pygments_lexer": "ipython3",
   "version": "3.11.3"
  }
 },
 "nbformat": 4,
 "nbformat_minor": 4
}
